{
 "cells": [
  {
   "cell_type": "code",
   "execution_count": null,
   "metadata": {},
   "outputs": [],
   "source": [
    "from kyle_tools import rc_dict\n",
    "\n",
    "rc_dict['legend.loc'] = 'upper right'\n",
    "rc_dict['legend.fontsize'] = 11\n",
    "for key,v in rc_dict.items():\n",
    "    plt.rcParams[key] = v"
   ]
  },
  {
   "cell_type": "code",
   "execution_count": null,
   "metadata": {},
   "outputs": [],
   "source": [
    "import sys\n",
    "import os\n",
    "import matplotlib.pyplot as plt\n",
    "from scipy.stats import sem\n",
    "from scipy.linalg import expm\n",
    "import numpy as np\n",
    "plt.rcParams[\"animation.html\"] = \"jshtml\"\n",
    "from IPython.display import HTML\n",
    "import matplotlib.animation as animation\n",
    "\n",
    "%matplotlib inline\n",
    "\n",
    "source_path = os.path.expanduser('~/source/')\n",
    "sys.path.append(source_path)"
   ]
  },
  {
   "cell_type": "code",
   "execution_count": null,
   "metadata": {},
   "outputs": [],
   "source": [
    "import kyle_tools as kt\n",
    "from sus.library import ness\n",
    "from sus.protocol_designer import *\n",
    "from informational_states import measure"
   ]
  },
  {
   "cell_type": "code",
   "execution_count": null,
   "metadata": {},
   "outputs": [],
   "source": [
    "from simtools.infoenginessims.api import *\n",
    "from simtools.infoenginessims.analysis import running_quantities as rq\n",
    "from simtools.infoenginessims.simprocedures import basic_simprocedures as sp\n",
    "from simtools.infoenginessims.simprocedures import running_measurements as rp\n",
    "from simtools.infoenginessims.simprocedures import trajectory_measurements as tp"
   ]
  },
  {
   "cell_type": "code",
   "execution_count": null,
   "metadata": {},
   "outputs": [],
   "source": []
  },
  {
   "cell_type": "code",
   "execution_count": null,
   "metadata": {},
   "outputs": [],
   "source": [
    "def periodic_truncation(positions, min=-1.5, max = 1.5):\n",
    "    return (positions - min) % (max-min) + min\n",
    "\n",
    "def three_state(positions):\n",
    "    return np.round(positions)\n",
    "\n",
    "names = ['A', 'B', 'C']\n",
    "values = [-1, 0, 1]\n",
    "\n",
    "measure_kwargs = {'transformation_function':three_state, 'outcome_names':names, 'outcome_values':values}\n",
    "\n",
    "three_state_measurement = measure.MeasurementDevice(**measure_kwargs)"
   ]
  },
  {
   "cell_type": "code",
   "execution_count": null,
   "metadata": {},
   "outputs": [],
   "source": [
    "\n",
    "k1=1\n",
    "k2=.5\n",
    "lmda = 1\n",
    "\n",
    "pw_linear = ness.pwl\n",
    "pwl_prot = pw_linear.trivial_protocol()\n",
    "\n",
    "pwl_prot.params[0,:] = k1\n",
    "pwl_prot.params[1,:] = k2\n",
    "\n",
    "system = System(pwl_prot, pw_linear)\n",
    "\n"
   ]
  },
  {
   "cell_type": "code",
   "execution_count": null,
   "metadata": {},
   "outputs": [],
   "source": [
    "\n",
    "k= 1\n",
    "d = 1\n",
    "a = 1\n",
    "R= 10\n",
    "\n",
    "lmda = 1\n",
    "ness_potential = ness.three_well_periodic\n",
    "prot=ness_potential.trivial_protocol()\n",
    "\n",
    "#ness_potential = ness.three_well_periodic_mb\n",
    "#prot = ness_potential.trivial_protocol()\n",
    "\n",
    "prot.params[0,:] = d\n",
    "prot.params[1,:] = k\n",
    "prot.params[2,:] = a\n",
    "#prot.params[3,:] = R\n",
    "\n",
    "system = System(prot, ness_potential)\n"
   ]
  },
  {
   "cell_type": "code",
   "execution_count": null,
   "metadata": {},
   "outputs": [],
   "source": [
    "\n",
    "system.protocol.t_f =.25\n",
    "system.potential.scale=1\n"
   ]
  },
  {
   "cell_type": "code",
   "execution_count": null,
   "metadata": {},
   "outputs": [],
   "source": [
    "# for paper plotting\n",
    "fig,ax = plt.subplots(1,2, figsize=(1*8,1*3))\n",
    "x_temp = np.linspace(-1.5,1.5, 1000)\n",
    "\n",
    "U = ness.three_well_periodic_potential(x_temp, [d, 0, a/2 ,])\n",
    "\n",
    "F = ness.three_well_periodic_force(x_temp, [d, 0, a ,])\n",
    "\n",
    "ax[0].plot(x_temp, U)\n",
    "ax[1].plot(x_temp, F, label='conservative force')\n",
    "ax[1].plot(x_temp, np.ones(len(x_temp)), label='external drive')\n",
    "\n",
    "xc, yc = -.33, 1.05\n",
    "\n",
    "ax[0].scatter(xc,yc, s=82, c='r', zorder=100)\n",
    "ax[0].arrow(xc, yc, .4, 0, head_width=.2, head_length=.2, color='k')\n",
    "ax[0].text(xc+.3, yc+.1, '$F$')\n",
    "lineargs = {'linewidth':.6, 'linestyle':'--', 'color':'k'}\n",
    "\n",
    "ax[1].axhline(0, **lineargs)\n",
    "\n",
    "for axis in ax:\n",
    "    axis.axvline(-1.5, **lineargs)\n",
    "    axis.axvline(1.5, **lineargs)\n",
    "    axis.axvline(-1+.02, **lineargs)\n",
    "    axis.axvline(0,**lineargs)\n",
    "    axis.axvline(1-.02,**lineargs)\n",
    "\n",
    "titles=['$U(k_B T)$','$F(k_B T/x)$']\n",
    "\n",
    "for axis, title in zip (ax, titles):\n",
    "    axis.set_ylabel(title)\n",
    "\n",
    "for axis in ax:\n",
    "    axis.set_xlabel('$x$')\n",
    "\n",
    "fig.legend()\n",
    "\n",
    "ax[0].axhline(2.5)\n",
    "ax[0].axhline(.25)\n",
    "ax[0].axhline(-.5)\n",
    "ax[0].axhline(1.75)\n",
    "\n",
    "\n",
    "    "
   ]
  },
  {
   "cell_type": "code",
   "execution_count": null,
   "metadata": {},
   "outputs": [],
   "source": [
    "fig.savefig('NESS_model.pdf')"
   ]
  },
  {
   "cell_type": "code",
   "execution_count": null,
   "metadata": {},
   "outputs": [],
   "source": [
    "%debug"
   ]
  },
  {
   "cell_type": "code",
   "execution_count": null,
   "metadata": {},
   "outputs": [],
   "source": [
    "fig, ax = plt.subplots()\n",
    "system.show_potential(1, resolution=1000, manual_domain=[[-3],[3]], ax=ax)\n",
    "plt.axvline(-1.5)\n",
    "plt.axvline(1.5)\n",
    "\n",
    "offset = 1.5\n",
    "plt.axhline(0+offset)\n",
    "plt.axhline(3*k+offset)"
   ]
  },
  {
   "cell_type": "code",
   "execution_count": null,
   "metadata": {},
   "outputs": [],
   "source": [
    "(k**2)/(lmda)"
   ]
  },
  {
   "cell_type": "code",
   "execution_count": null,
   "metadata": {},
   "outputs": [],
   "source": [
    "N=100_000\n",
    "init_state = system.eq_state(N, 0)\n",
    "\n",
    "plt.hist(periodic_truncation(init_state[...,0]), bins=50);\n"
   ]
  },
  {
   "cell_type": "code",
   "execution_count": null,
   "metadata": {},
   "outputs": [],
   "source": [
    "\n",
    "plt.hist(init_state[...,0,0], bins=30, alpha=.5, density=True);\n",
    "plt.hist(init_state[...,0,1], bins=30, alpha=.5, density=True);"
   ]
  },
  {
   "cell_type": "code",
   "execution_count": null,
   "metadata": {},
   "outputs": [],
   "source": [
    "'''\n",
    "N = 3_000\n",
    "init_state = system.eq_state(3*N,t=0, manual_domain=[[-.5],[.5]])\n",
    "init_state[:N,...,0] += 1\n",
    "init_state[N:2*N,...,0] -= 1\n",
    "init_state[...,0] = periodic_truncation(init_state[...,0])\n",
    "\n",
    "np.random.shuffle(init_state)\n",
    "\n",
    "plt.hist(init_state[...,0], bins=60);\n",
    "'''"
   ]
  },
  {
   "cell_type": "code",
   "execution_count": null,
   "metadata": {},
   "outputs": [],
   "source": [
    "step_skip = 5\n",
    "#step_skip = 50\n",
    "\n",
    "procs = [\n",
    "        sp.ReturnFinalState(),\n",
    "        sp.MeasureAllState(trial_request=np.s_[:],step_request=np.s_[::step_skip]),\n",
    "        rp.MeasureFinalValue(rp.get_dE, 'final_E'), \n",
    "        rp.MeasureAllValue(rp.get_dE, 'all_E'),\n",
    "        sp.MeasureMeanValue(rp.get_current_state, 'means')]"
   ]
  },
  {
   "cell_type": "code",
   "execution_count": null,
   "metadata": {},
   "outputs": [],
   "source": [
    "len(loaded_data)"
   ]
  },
  {
   "cell_type": "code",
   "execution_count": null,
   "metadata": {},
   "outputs": [],
   "source": [
    "#files = [f'./data/jinghao_mystery_traj_dt_p001_ep_p25_{n}.npy' for n in [f'0{N}' for N in range(5,9)]]\n",
    "#loaded_data = \n",
    "loaded_data = np.load('./data/jinghao_mystery_traj_dt_p001_ep_p25_12.npy')\n",
    "N=600_000\n",
    "#indices = [ int(i) for i in np.linspace(0,200,int(N/len(loaded_data))) ]\n",
    "init_state = np.empty( (N,1,2) )\n",
    "#init_state[:] = np.vstack( [loaded_data[:,i,...] for i in indices])\n",
    "init_state = loaded_data[:,-1,None,:]"
   ]
  },
  {
   "cell_type": "code",
   "execution_count": null,
   "metadata": {},
   "outputs": [],
   "source": [
    "loaded_data.shape"
   ]
  },
  {
   "cell_type": "code",
   "execution_count": null,
   "metadata": {},
   "outputs": [],
   "source": [
    "loaded_data = [np.load(i) for i in files]\n",
    "all_load = np.vstack(loaded_data)\n"
   ]
  },
  {
   "cell_type": "code",
   "execution_count": null,
   "metadata": {},
   "outputs": [],
   "source": [
    "all_load.shape"
   ]
  },
  {
   "cell_type": "code",
   "execution_count": null,
   "metadata": {},
   "outputs": [],
   "source": [
    "np.log(24_000_000)"
   ]
  },
  {
   "cell_type": "code",
   "execution_count": null,
   "metadata": {},
   "outputs": [],
   "source": [
    "from kyle_tools import rc_dict\n",
    "\n",
    "for k,v in rc_dict.items():\n",
    "    plt.rcParams[k] = v\n",
    "\n",
    "ld = all_load[:,::2,...].reshape(-1, 1,2)\n",
    "fig, ax = plt.subplots(figsize=(5,3))\n",
    "#ax[0].hist2d(init_state[...,0,0],init_state[...,0,1], bins=100 );\n",
    "ax.hist2d(ld[...,0,0],ld[...,0,1], bins=500, cmap='inferno');\n",
    "\n",
    "ax.set_ylim(-4,4)\n",
    "ax.set_xlabel('$x$')\n",
    "ax.set_ylabel('$p$')\n",
    "\n"
   ]
  },
  {
   "cell_type": "code",
   "execution_count": null,
   "metadata": {},
   "outputs": [],
   "source": [
    "fig.savefig('cyclic_ness_phase_space_5.png')"
   ]
  },
  {
   "cell_type": "code",
   "execution_count": null,
   "metadata": {},
   "outputs": [],
   "source": [
    "#init_state=final_state\n",
    "from quick_sim import setup_sim\n",
    "#dt = 1/1000\n",
    "dt = 1/5000\n",
    "\n",
    "\n",
    "sim = setup_sim(system, init_state, damping=lmda, temp=1, dt=dt, procedures=procs)"
   ]
  },
  {
   "cell_type": "code",
   "execution_count": null,
   "metadata": {},
   "outputs": [],
   "source": [
    "%%time\n",
    "sim.output = sim.run(verbose=True)"
   ]
  },
  {
   "cell_type": "code",
   "execution_count": null,
   "metadata": {},
   "outputs": [],
   "source": [
    "all_state = sim.output.all_state['states'].squeeze()\n",
    "p_all_state = all_state.copy()\n",
    "p_all_state[...,0] = periodic_truncation(p_all_state[...,0])\n",
    "inf_all_state = three_state(p_all_state[...,0])\n",
    "all_E = sim.output.all_E\n",
    "final_E = sim.output.final_E\n",
    "final_state = sim.output.final_state\n",
    "p_final_state = periodic_truncation(final_state[...,0])\n",
    "t= np.linspace(0, system.protocol.t_f, 1+int(system.protocol.t_f/dt))\n",
    "all_means = sim.output.means['values']\n"
   ]
  },
  {
   "cell_type": "code",
   "execution_count": null,
   "metadata": {},
   "outputs": [],
   "source": [
    "all_state.shape"
   ]
  },
  {
   "cell_type": "code",
   "execution_count": null,
   "metadata": {},
   "outputs": [],
   "source": [
    "#is_dict = kt.separate_by_state(init_state[:,0,1,0], **measure_kwargs)\n",
    "#fs_dict = kt.separate_by_state(p_final_state[:,0,1,0], **measure_kwargs)"
   ]
  },
  {
   "cell_type": "code",
   "execution_count": null,
   "metadata": {},
   "outputs": [],
   "source": [
    "#plotting the trajectories along a particular axis\n",
    "end_plot_time = 1*system.protocol.t_f #* 1 / 100\n",
    "trial_indices = np.s_[:1000]\n",
    "\n",
    "rq.plot_running_quantity(all_state[trial_indices,:,0,0],\n",
    "                                                  final_time=end_plot_time,\n",
    "                                                  end_plot_time=end_plot_time, title='x v t', alpha=.05)\n",
    "\n",
    "\n",
    "rq.plot_running_quantity(p_all_state[trial_indices,:,0,0],\n",
    "                                                  final_time=end_plot_time,\n",
    "                                                  end_plot_time=end_plot_time, title='x v t', alpha=.05)\n"
   ]
  },
  {
   "cell_type": "code",
   "execution_count": null,
   "metadata": {},
   "outputs": [],
   "source": [
    "%%capture\n",
    "ani, fig, ax = kt.animate_hist_1D(p_all_state, 40, frame_skip=10, lims=[-1.5,1.5])\n",
    "HTML(ani.to_jshtml(fps=24))"
   ]
  },
  {
   "cell_type": "code",
   "execution_count": null,
   "metadata": {},
   "outputs": [],
   "source": [
    "ani"
   ]
  },
  {
   "cell_type": "code",
   "execution_count": null,
   "metadata": {},
   "outputs": [],
   "source": [
    "fig, ax= plt.subplots(1,4, figsize=(20,5),sharex=True, sharey=True)\n",
    "t_vals = np.linspace(0, len(p_all_state[0,:,0,0])-1, 4)\n",
    "for i, item in enumerate(t_vals):\n",
    "    ax[i].hist(p_all_state[:,int(item),0,0], bins=60)"
   ]
  },
  {
   "cell_type": "code",
   "execution_count": null,
   "metadata": {},
   "outputs": [],
   "source": [
    "fig, ax= plt.subplots(1,4, figsize=(20,5), sharex=True, sharey=True)\n",
    "t_vals = np.linspace(0, len(p_all_state[0,:,0,0])-1, 4)\n",
    "for i, item in enumerate(t_vals):\n",
    "    ax[i].hist(p_all_state[:,int(item),0,1], bins=60, density=True)"
   ]
  },
  {
   "cell_type": "code",
   "execution_count": null,
   "metadata": {},
   "outputs": [],
   "source": [
    "%%capture\n",
    "\n",
    "ani,_,_ = kt.animate_sim(p_all_state[:100,:,0,:], frame_skip=1)\n",
    "HTML(ani.to_jshtml(fps=30))"
   ]
  },
  {
   "cell_type": "code",
   "execution_count": null,
   "metadata": {},
   "outputs": [],
   "source": [
    "ani"
   ]
  },
  {
   "cell_type": "code",
   "execution_count": null,
   "metadata": {},
   "outputs": [],
   "source": [
    "#ani.save('jinghao_qualitative')"
   ]
  },
  {
   "cell_type": "code",
   "execution_count": null,
   "metadata": {},
   "outputs": [],
   "source": [
    "#indx = [1296, 40, 2900] \n",
    "test = ( np.max( np.abs(all_state[:,:,:,0]), axis=1 ) > 2)[:,0]\n",
    "rq.plot_running_quantity(all_state[test,:,0,0],\n",
    "                                                  final_time=end_plot_time,\n",
    "                                                  end_plot_time=end_plot_time, title='x v t rare', alpha=.1)"
   ]
  },
  {
   "cell_type": "code",
   "execution_count": null,
   "metadata": {},
   "outputs": [],
   "source": [
    "p_all_state.shape\n",
    "print(1/500)"
   ]
  },
  {
   "cell_type": "code",
   "execution_count": null,
   "metadata": {},
   "outputs": [],
   "source": [
    "dt*step_skip"
   ]
  },
  {
   "cell_type": "code",
   "execution_count": null,
   "metadata": {},
   "outputs": [],
   "source": [
    "#np.save('PWL_UD_NESS_dt_p005_ep_p55_01', p_all_state, allow_pickle=False)\n",
    "np.save('./data/jinghao_mystery_traj_dt_p001_ep_p25_14', p_all_state, allow_pickle=False)"
   ]
  },
  {
   "cell_type": "code",
   "execution_count": null,
   "metadata": {},
   "outputs": [],
   "source": [
    "#p_all_state = np.load('./PWL_UD_NESS_dt_p005_ep_p55_01.npy', allow_pickle=False)"
   ]
  },
  {
   "cell_type": "code",
   "execution_count": null,
   "metadata": {},
   "outputs": [],
   "source": [
    "fig, ax = plt.subplots()\n",
    "ax.hist(np.diff(p_all_state[:,...,0]));\n",
    "ax.set_yscale('log')"
   ]
  },
  {
   "cell_type": "code",
   "execution_count": null,
   "metadata": {},
   "outputs": [],
   "source": [
    "files = [f'./data/jinghao_mystery_traj_dt_p001_ep_p25_{n}.npy' for n in [f'{N:02}' for N in range(5,8)]]\n",
    "\n",
    "process = ([np.array(np.load(item)).squeeze()[:,:201,:] for item in files])\n",
    "process = np.vstack(process)\n",
    "\n",
    "d=3\n",
    "\n",
    "s =  process.shape\n",
    "\n",
    "new_len = int(s[1]/d)\n",
    "new_process = np.empty( (d*s[0], new_len, s[-1]) )\n",
    "for i in range(d):\n",
    "    new_process[i*s[0]:(i+1)*s[0],...] = process[:,i*new_len:(i+1)*new_len ,...]\n",
    "    \n",
    "#new_process = new_process.reshape(d*s[0]*s[1], new_len,s[-1])\n",
    "\n",
    "print(process.shape, new_process.shape)\n",
    "process = new_process"
   ]
  },
  {
   "cell_type": "code",
   "execution_count": null,
   "metadata": {},
   "outputs": [],
   "source": [
    "process.shape"
   ]
  },
  {
   "cell_type": "code",
   "execution_count": null,
   "metadata": {},
   "outputs": [],
   "source": [
    "pas = np.vstack( [p_all_state[:,:201,...].squeeze(), process] )"
   ]
  },
  {
   "cell_type": "code",
   "execution_count": null,
   "metadata": {},
   "outputs": [],
   "source": [
    "#p_all_state = process\n",
    "\n",
    "p_jumps = np.diff(p_all_state[...,0]) > 2\n",
    "n_jumps = np.diff(p_all_state[...,0]) < -2\n",
    "idx = 12\n",
    "plt.plot(n_jumps[idx,:], linestyle='none', marker='o');\n",
    "plt.plot(p_all_state[idx,:,0].T);"
   ]
  },
  {
   "cell_type": "code",
   "execution_count": null,
   "metadata": {},
   "outputs": [],
   "source": [
    "dt=1/5000\n",
    "step_skip=5\n",
    "\n",
    "cg = 1\n",
    "K = 1\n",
    "\n",
    "p_all_state = process\n",
    "dx_state = p_all_state[:,::cg,0]\n",
    "#dx_state = all_state[:,::cg,0]\n",
    "cyclic_lims = [-1.5,1.5]\n",
    "#cyclic_lims = None\n",
    "\n",
    "\n",
    "dx = np.diff(dx_state, axis=1)\n",
    "\n",
    "\n",
    "\n",
    "if cyclic_lims is not None:\n",
    "        domain = np.diff(np.asarray(cyclic_lims))\n",
    "        jump_back = dx < -.8*domain\n",
    "        jump_forw = dx > .8*domain\n",
    "        dx[jump_back] = dx[jump_back] + domain\n",
    "        dx[jump_forw] = dx[jump_forw] - domain\n",
    "\n",
    "ast = K*dx\n",
    "ast_d = ast/(cg*dt*step_skip)\n",
    "ent = ast_d.mean(axis=0)\n",
    "err = ast_d.std(axis=0)\n",
    "\n",
    "fig, ax  = plt.subplots()\n",
    "\n",
    "ax.errorbar( np.linspace(0,1, len(ast_d[0,:])), ent, yerr=3*err/np.sqrt(len(dx)), linestyle='none', marker='D' );\n",
    "ax.axhline(ent.mean())\n",
    "print(ent.mean())"
   ]
  },
  {
   "cell_type": "code",
   "execution_count": null,
   "metadata": {},
   "outputs": [],
   "source": [
    "fig, ax = plt.subplots(1,3, figsize=(15,5))\n",
    "ax[0].plot(p_jumps.sum(axis=0))\n",
    "ax[0].plot(n_jumps.sum(axis=0))\n",
    "\n",
    "ent_j = 3*(K)*(n_jumps.mean(axis=0)-p_jumps.mean(axis=0))/(dt*step_skip)\n",
    "#ent_j = 3*k*(n_jumps.mean(axis=0)-p_jumps.mean(axis=0))/(dt*step_skip)\n",
    "\n",
    "\n",
    "ax[1].plot( ent_j)\n",
    "ax[2].hist( ent_j,bins=np.linspace(.17,.34,int(3*np.log(len(n_jumps)))))\n",
    "ax[1].axhline( ent_j.mean())\n",
    "ax[1].axhline( ent_j.mean()+3*ent_j.std())\n",
    "ax[1].axhline( ent_j.mean()-3*ent_j.std())\n",
    "print(ent_j.mean())\n",
    "\n"
   ]
  },
  {
   "cell_type": "code",
   "execution_count": null,
   "metadata": {},
   "outputs": [],
   "source": [
    "#ani.save('wind_tunnels.mp4')"
   ]
  },
  {
   "cell_type": "code",
   "execution_count": null,
   "metadata": {},
   "outputs": [],
   "source": [
    "plt.plot(sigma_mean)"
   ]
  },
  {
   "cell_type": "code",
   "execution_count": null,
   "metadata": {},
   "outputs": [],
   "source": [
    "plt.scatter(t[::10],inf_all_state[1,::10,...,0], s=2)\n",
    "#plt.scatter(t[::5],inf_all_state[5,::5,...,0])\n",
    "#plt.scatter(t[::5],inf_all_state[10,::5,...,0])\n"
   ]
  },
  {
   "cell_type": "code",
   "execution_count": null,
   "metadata": {},
   "outputs": [],
   "source": [
    "def state_prob(x, mu_x, sigma_x):\n",
    "    x, v = x[...,0,0], x[...,0,1]\n",
    "\n",
    "    pdf_v = np.exp(-(v-k/lmda)**2)\n",
    "    pdf_x = np.multiply(1/sigma_x,np.exp(-.5*((x-mu_x)/sigma_x)**2))\n",
    "    \n",
    "    return 1/(2*np.pi)*pdf_v*pdf_x\n",
    "\n",
    "def scaled_var(array):\n",
    "    return np.var(array, axis=0)/(np.mean(array,axis=0)**2)"
   ]
  },
  {
   "cell_type": "code",
   "execution_count": null,
   "metadata": {},
   "outputs": [],
   "source": [
    "def FT_avg(array, sigma=None, axis=0):\n",
    "    if sigma is None:\n",
    "        sigma=array\n",
    "    array = array * (1-np.exp(-sigma))\n",
    "    return np.mean(array, axis=axis)"
   ]
  },
  {
   "cell_type": "code",
   "execution_count": null,
   "metadata": {},
   "outputs": [],
   "source": [
    "std_v = np.std(all_state[...,0,1], axis=0)\n",
    "plt.plot(t,std_v)\n",
    "plt.axhline(1)"
   ]
  },
  {
   "cell_type": "code",
   "execution_count": null,
   "metadata": {},
   "outputs": [],
   "source": [
    "std = np.std(all_state[...,0,0], axis=0)\n",
    "mean = np.mean(all_state[...,0,0], axis=0)[1:]\n",
    "\n",
    "plt.plot(t, np.divide(std,np.sqrt(init_var+2*t/lmda)) )\n",
    "plt.title('x_std divided by analytic form')\n"
   ]
  },
  {
   "cell_type": "code",
   "execution_count": null,
   "metadata": {},
   "outputs": [],
   "source": [
    "all_prob = state_prob(all_state, t*k/lmda, np.sqrt(init_var+2*t/lmda))\n",
    "init_prob = state_prob(init_state, 0, np.sqrt(init_var))"
   ]
  },
  {
   "cell_type": "code",
   "execution_count": null,
   "metadata": {},
   "outputs": [],
   "source": [
    "for item in -np.log(np.divide(np.transpose(all_prob[:5]),init_prob[:5])).transpose():\n",
    "    plt.plot(t[1:],item);"
   ]
  },
  {
   "cell_type": "code",
   "execution_count": null,
   "metadata": {},
   "outputs": [],
   "source": [
    "dH = -np.log(np.divide(np.transpose(all_prob),init_prob)).transpose()"
   ]
  },
  {
   "cell_type": "code",
   "execution_count": null,
   "metadata": {},
   "outputs": [],
   "source": [
    "fig, ax = plt.subplots()\n",
    "\n",
    "#plt.plot(np.mean(dH, axis=0))\n",
    "plt.plot(np.mean(all_E, axis=0))\n",
    "\n",
    "\n",
    "\n",
    "ax.set_xlabel('$\\\\nu$ hi')\n"
   ]
  },
  {
   "cell_type": "code",
   "execution_count": null,
   "metadata": {},
   "outputs": [],
   "source": [
    "sigma_dist = -(all_E + dH)\n",
    "sgma_mean = np.mean(sigma_dist, axis=0)\n",
    "sgma_std = np.std(sigma_dist, axis=0)\n",
    "\n",
    "fig,ax=plt.subplots(figsize=(10,8))\n",
    "\n",
    "ax.errorbar(t, sigma_dist.mean(axis=0), yerr=sgma_std, alpha=.2, c='b')\n",
    "ax.errorbar(t, -k*(all_state[...,0].mean(axis=0)[:,0]), yerr=k*np.sqrt(init_var+2*t/lmda), alpha=.1, c='g')\n",
    "\n",
    "\n",
    "\n",
    "ax.legend(['$\\sigma(t) = H(x_t)-H(x_0) - ln(Pr(x_t)/Pr(x_0))$', '$\\sigma(t)=k * x_t$' ])\n",
    "ax.set_title('$\\\\langle \\sigma \\\\rangle \\pm s_{\\sigma}$ with reference frame moving at $v= \\\\nu t$')\n",
    "ax.set_xlabel('t')\n",
    "ax.set_ylabel('$\\\\langle \\sigma \\\\rangle - \\\\nu t$')\n",
    "\n"
   ]
  },
  {
   "cell_type": "code",
   "execution_count": null,
   "metadata": {},
   "outputs": [],
   "source": [
    "plt.plot(sgma_std)\n",
    "plt.plot(np.sqrt(2*t/lmda))\n"
   ]
  },
  {
   "cell_type": "code",
   "execution_count": null,
   "metadata": {},
   "outputs": [],
   "source": [
    "plt.errorbar(t, -current.mean(axis=0), current.std(axis=0) )"
   ]
  },
  {
   "cell_type": "code",
   "execution_count": null,
   "metadata": {},
   "outputs": [],
   "source": []
  },
  {
   "cell_type": "code",
   "execution_count": null,
   "metadata": {},
   "outputs": [],
   "source": [
    "min_bound[:10]"
   ]
  },
  {
   "cell_type": "code",
   "execution_count": null,
   "metadata": {},
   "outputs": [],
   "source": [
    "plt.plot(info_curr.mean(axis=0)[:300]**2)\n",
    "plt.plot(info_curr.var(axis=0)[:300])"
   ]
  },
  {
   "cell_type": "code",
   "execution_count": null,
   "metadata": {},
   "outputs": [],
   "source": [
    "plt.plot(np.var(info_curr, axis=0));"
   ]
  },
  {
   "cell_type": "code",
   "execution_count": null,
   "metadata": {},
   "outputs": [],
   "source": [
    "current = ((all_state[...,0,0].transpose() - init_state[...,0,0]).transpose())\n",
    "epsilon = scaled_var(current)\n",
    "\n",
    "i_epsilon = scaled_var(info_curr)\n",
    "\n"
   ]
  },
  {
   "cell_type": "code",
   "execution_count": null,
   "metadata": {},
   "outputs": [],
   "source": [
    "np.shape(i_epsilon)"
   ]
  },
  {
   "cell_type": "code",
   "execution_count": null,
   "metadata": {},
   "outputs": [],
   "source": [
    "sgma_mean[100]"
   ]
  },
  {
   "cell_type": "code",
   "execution_count": null,
   "metadata": {},
   "outputs": [],
   "source": [
    "from kyle_tools.utilities import inv_xtanhx\n",
    "inv = []\n",
    "for i,item in enumerate(sgma_mean):\n",
    "    \n",
    "    print('\\r {}of{}'.format(i,len(sgma_mean)),end='')\n",
    "    inv.append(inv_xtanhx(item/2))"
   ]
  },
  {
   "cell_type": "code",
   "execution_count": null,
   "metadata": {},
   "outputs": [],
   "source": [
    "new_inv = np.zeros(len(inv))\n",
    "for i, item in enumerate(inv):\n",
    "    new_inv[i] = item"
   ]
  },
  {
   "cell_type": "code",
   "execution_count": null,
   "metadata": {},
   "outputs": [],
   "source": [
    "hasegawa = 2/(np.exp(sgma_mean)-1)\n",
    "tur_de_force = 1/(np.sinh(new_inv))**2"
   ]
  },
  {
   "cell_type": "code",
   "execution_count": null,
   "metadata": {},
   "outputs": [],
   "source": [
    "min_bound = 1/np.mean(np.tanh(sigma_dist/2),axis=0) -1\n",
    "analytic_min = 2*np.exp(-sgma_mean/2)"
   ]
  },
  {
   "cell_type": "code",
   "execution_count": null,
   "metadata": {},
   "outputs": [],
   "source": [
    "plt.plot(min_bound[100:])"
   ]
  },
  {
   "cell_type": "code",
   "execution_count": null,
   "metadata": {},
   "outputs": [],
   "source": [
    "idx=np.s_[:]\n",
    "tn=t[:]\n",
    "fig, ax = plt.subplots(figsize=(15,12))\n",
    "\n",
    "for item in [min_bound/(2/sgma_mean), min_bound/hasegawa, min_bound/tur_de_force, min_bound/epsilon, min_bound/i_epsilon]:\n",
    "    ax.semilogy(tn[idx], item[idx])\n",
    "\n",
    "ax.axhline(1,c='k', linestyle='--')\n",
    "plt.legend(['HG','HVV','TGGL', '$\\\\epsilon^2_{J_dx}$','$\\\\epsilon^2_{J_dS}$'])"
   ]
  },
  {
   "cell_type": "code",
   "execution_count": null,
   "metadata": {},
   "outputs": [],
   "source": [
    "x_means = all_means[...,0]\n",
    "x_std = x_means[:,1] * np.sqrt(3*N)\n",
    "theory = np.sqrt(2*t/lmda+x_std[0]**2)\n",
    "plt.plot(t, x_std)\n",
    "plt.plot(t, theory, c='k')"
   ]
  },
  {
   "cell_type": "code",
   "execution_count": null,
   "metadata": {},
   "outputs": [],
   "source": [
    "plt.errorbar(t, all_state[...,0,0].mean(axis=0), yerr=all_state[...,0,0].std(axis=0))\n",
    "plt.plot(t, t*k/lmda, c='k')"
   ]
  },
  {
   "cell_type": "code",
   "execution_count": null,
   "metadata": {},
   "outputs": [],
   "source": [
    "dE = np.diff(all_E,axis=1).mean(axis=0)\n",
    "dE_var = np.var(-dE)\n",
    "dE_mean = np.mean(-dE)\n",
    "plt.plot(dE)"
   ]
  },
  {
   "cell_type": "code",
   "execution_count": null,
   "metadata": {},
   "outputs": [],
   "source": [
    "dH = .5*np.log(x_std[0]/x_std)"
   ]
  },
  {
   "cell_type": "code",
   "execution_count": null,
   "metadata": {},
   "outputs": [],
   "source": [
    "bound1 = 2*k**2/lmda**2\n",
    "bound2 = k**2/lmda\n",
    "plt.errorbar(t,(-all_E.mean(axis=0)+dH[:,0])/t-bound2, yerr=-sem(all_E)/t)\n",
    "#plt.axhline(bound1, c='k')\n",
    "print(bound1)"
   ]
  },
  {
   "cell_type": "code",
   "execution_count": null,
   "metadata": {},
   "outputs": [],
   "source": []
  },
  {
   "cell_type": "code",
   "execution_count": null,
   "metadata": {},
   "outputs": [],
   "source": [
    "dE_mean"
   ]
  },
  {
   "cell_type": "code",
   "execution_count": null,
   "metadata": {},
   "outputs": [],
   "source": [
    "plt.hist(-steps*dE_mean, bins=40);\n",
    "print(np.mean(-steps*dE_mean)/system.protocol.t_f)\n",
    "\n"
   ]
  },
  {
   "cell_type": "code",
   "execution_count": null,
   "metadata": {},
   "outputs": [],
   "source": [
    "plt.hist(-all_E[:,int(steps/2)], bins=40);\n",
    "mn = -final_E.mean()/system.protocol.t_f\n",
    "std = np.var(-final_E/steps)\n",
    "print(mn)"
   ]
  },
  {
   "cell_type": "code",
   "execution_count": null,
   "metadata": {},
   "outputs": [],
   "source": [
    "plt.hist(-final_E, bins=40);\n",
    "mn = -final_E.mean()/system.protocol.t_f\n",
    "std = np.var(-final_E/steps)\n",
    "print(mn, 2*(2/1.5)**2)"
   ]
  },
  {
   "cell_type": "code",
   "execution_count": null,
   "metadata": {},
   "outputs": [],
   "source": [
    "short_procs = [\n",
    "        sp.ReturnFinalState(),\n",
    "        rp.MeasureFinalValue(rp.get_dE, 'final_E'), \n",
    "        ]\n",
    "\n",
    "final_E = [[],[]]\n",
    "final_S = []\n",
    "initial_S = []\n",
    "bound=[]\n",
    "\n",
    "lda_list = np.linspace(3,10, 20)\n",
    "for item in lda_list:\n",
    "        lmda=item\n",
    "        \n",
    "        tau=1\n",
    "        k=5\n",
    "\n",
    "        prot.params[1,:] = k\n",
    "        system = System(prot, ness_potential)\n",
    "        system.protocol.t_f =tau\n",
    "\n",
    "        N=25_000\n",
    "        init_state = np.random.normal(0, np.sqrt(2*10), (N,1,2))\n",
    "        init_state[...,1] = np.random.normal(k/lmda, 1,(N,1))\n",
    "        \n",
    "\n",
    "        sim = setup_sim(system, init_state, damping=lmda, temp=1, nsteps=int(system.protocol.t_f/dt), procedures=procs)\n",
    "        sim.output=sim.run(verbose=True)\n",
    "        print(':',lmda)\n",
    "        \n",
    "\n",
    "        final_E[0].append(-sim.output.final_E.mean()/tau)\n",
    "        final_E[1].append(sem(sim.output.final_E)/tau)\n",
    "        final_S.append(sim.output.final_state)\n",
    "        initial_S.append(init_state)\n",
    "        bound.append(2*k**2/(lmda**2))\n",
    "\n",
    "        \n",
    "\n",
    "        \n",
    "        \n",
    "\n"
   ]
  },
  {
   "cell_type": "code",
   "execution_count": null,
   "metadata": {},
   "outputs": [],
   "source": [
    "k**2 / lda_list"
   ]
  },
  {
   "cell_type": "code",
   "execution_count": null,
   "metadata": {},
   "outputs": [],
   "source": [
    "std"
   ]
  },
  {
   "cell_type": "code",
   "execution_count": null,
   "metadata": {},
   "outputs": [],
   "source": [
    "final_dH = []\n",
    "for i,item in enumerate(final_E[0]):\n",
    "    final_dH.append(item+ dH[i])"
   ]
  },
  {
   "cell_type": "code",
   "execution_count": null,
   "metadata": {},
   "outputs": [],
   "source": [
    "indices=np.s_[:]\n",
    "plt.semilogy(lda_list[indices], final_dH[indices], marker='.')\n",
    "plt.semilogy(lda_list[indices], bound[indices], c='k', marker='+')\n",
    "plt.semilogy(lda_list[indices], k**2 / lda_list[indices], c='r', linestyle='--')\n",
    "plt.legend(['$\\sigma$','bound','analytic $\\Sigma^{bath}$'])\n",
    "plt.xlabel('$\\lambda$')"
   ]
  },
  {
   "cell_type": "code",
   "execution_count": null,
   "metadata": {},
   "outputs": [],
   "source": [
    "dH=[]\n",
    "dH_theory=[]\n",
    "std=[]\n",
    "std_init = []\n",
    "fs_list = list(zip(final_S, initial_S))\n",
    "nrml_test = [[],[]]\n",
    "\n",
    "for i,item in enumerate(fs_list):\n",
    "\n",
    "    std_f, skew_f, kurt_f = item[0][...,0].std(), skew(item[0][...,0]), kurtosis(item[0][...,0])\n",
    "    std_i = item[1][...,0].std()\n",
    "    nrml_test[0].append(skew_f)\n",
    "    nrml_test[1].append(kurt_f)\n",
    "    std.append(std_f)\n",
    "    std_init.append(std_i)\n",
    "    \n",
    "    dH.append((np.log(std_f/std_i)/tau))\n",
    "\n",
    "    dH_theory.append(.5*np.log(1+(2*tau/(20*lda_list[i])))/tau)"
   ]
  },
  {
   "cell_type": "code",
   "execution_count": null,
   "metadata": {},
   "outputs": [],
   "source": [
    "plt.plot(dH)\n",
    "plt.plot(dH_theory, c='k')"
   ]
  },
  {
   "cell_type": "code",
   "execution_count": null,
   "metadata": {},
   "outputs": [],
   "source": [
    "dt_measurement = measure.Measurement(p_all_state[:,:,:,0], three_state_measurement)\n",
    "dt_ensemble = dt_measurement.calculate_trajectory_statistics()\n",
    "#dt_dyn = dt_ensemble.calculate_dynamics()"
   ]
  },
  {
   "cell_type": "code",
   "execution_count": null,
   "metadata": {},
   "outputs": [],
   "source": [
    "np.max(dt_ensemble.unique_traj)"
   ]
  },
  {
   "cell_type": "code",
   "execution_count": null,
   "metadata": {},
   "outputs": [],
   "source": [
    "plt.hist(info_weights)"
   ]
  },
  {
   "cell_type": "code",
   "execution_count": null,
   "metadata": {},
   "outputs": [],
   "source": [
    "info_curr, info_weights = find_current(dt_ensemble)"
   ]
  },
  {
   "cell_type": "code",
   "execution_count": null,
   "metadata": {},
   "outputs": [],
   "source": [
    "def find_current(traj_ensemble):\n",
    "    trajectories = traj_ensemble.unique_traj\n",
    "    probs = traj_ensemble.traj_probs\n",
    "\n",
    "    current = trajectories[...,:-1]\n",
    "    next = trajectories[...,1:]\n",
    "\n",
    "    transition_trajectories = transition_value(current, next)\n",
    "\n",
    "    return np.cumsum(transition_trajectories, axis=1), probs\n",
    "\n",
    "\n",
    "def transition_value(old, new):\n",
    "    delta = new-old\n",
    "    delta[delta==2] = -1\n",
    "    delta[delta==-2] = 1\n",
    "    N, steps = np.shape(delta)\n",
    "    transition_trajectories = np.zeros((N, steps+1))\n",
    "    transition_trajectories[:,1:] = delta\n",
    "    return transition_trajectories\n",
    "    \n",
    "\n",
    "\n"
   ]
  },
  {
   "cell_type": "code",
   "execution_count": null,
   "metadata": {},
   "outputs": [],
   "source": [
    "dt_ensemble.traj_probs[:10]"
   ]
  },
  {
   "cell_type": "code",
   "execution_count": null,
   "metadata": {},
   "outputs": [],
   "source": [
    "dt_measurement = measure.Measurement(p_all_state[:,::2,:,0], three_state_measurement)\n",
    "dt_ensemble = dt_measurement.calculate_trajectory_statistics()\n",
    "dt_dyn = dt_ensemble.calculate_dynamics()\n",
    "\n",
    "dt_means = np.mean(dt_dyn, axis=0)\n",
    "for i in range(3):\n",
    "    dt_means[i,i] -= 1\n",
    "dt_stds = np.std(dyn, axis=0)\n",
    "\n",
    "\n",
    "Q_dt = dt_means/(dt)\n",
    "\n",
    "P_dt_1 = expm(Q_dt)"
   ]
  },
  {
   "cell_type": "code",
   "execution_count": null,
   "metadata": {},
   "outputs": [],
   "source": [
    "from scipy.linalg import eig\n",
    "eig(Q_dt, left=True)"
   ]
  },
  {
   "cell_type": "code",
   "execution_count": null,
   "metadata": {},
   "outputs": [],
   "source": [
    "np.matmul((1/3,1/3,1/3), Q_dt)"
   ]
  },
  {
   "cell_type": "code",
   "execution_count": null,
   "metadata": {},
   "outputs": [],
   "source": [
    "np.matmul((1/3,1/3,1/3), P_dt.transpose() )"
   ]
  },
  {
   "cell_type": "code",
   "execution_count": null,
   "metadata": {},
   "outputs": [],
   "source": [
    "scipy.matmual(Q_dt,(1/3,1/3,1/3))"
   ]
  },
  {
   "cell_type": "code",
   "execution_count": null,
   "metadata": {},
   "outputs": [],
   "source": [
    "dt_means"
   ]
  },
  {
   "cell_type": "code",
   "execution_count": null,
   "metadata": {},
   "outputs": [],
   "source": [
    "P_dt_1"
   ]
  },
  {
   "cell_type": "code",
   "execution_count": null,
   "metadata": {},
   "outputs": [],
   "source": [
    "\n",
    "def get_dQ(n):\n",
    "    dict = {'Q':[],'P(1)':[]}\n",
    "    dict['n'] = n\n",
    "    for item in list(n):\n",
    "        \n",
    "        measurement = measure.Measurement(p_all_state[:,::item,:,0], three_state_measurement)\n",
    "        ensemble = measurement.calculate_trajectory_statistics()\n",
    "        dyn = ensemble.calculate_dynamics()\n",
    "        means = np.mean(dyn, axis=0)\n",
    "        for i in range(3):\n",
    "            means[i,i] -= 1\n",
    "        Q_dt = dt_means/(item*dt)\n",
    "        P_dt = expm(Q_dt)\n",
    "        dict['Q'].append(Q_dt)\n",
    "        dict['P(1)'].append(P_dt)\n",
    "    return dict"
   ]
  },
  {
   "cell_type": "code",
   "execution_count": null,
   "metadata": {},
   "outputs": [],
   "source": [
    "ctmc_list = get_dQ([64,32,16, 8, 4, 2, 1])"
   ]
  },
  {
   "cell_type": "code",
   "execution_count": null,
   "metadata": {},
   "outputs": [],
   "source": [
    "measurement = measure.Measurement(p_all_state[:,::10,:,0], three_state_measurement)\n",
    "ensemble = measurement.calculate_trajectory_statistics()"
   ]
  },
  {
   "cell_type": "code",
   "execution_count": null,
   "metadata": {},
   "outputs": [],
   "source": [
    "ctmc_list['Q'][0]"
   ]
  },
  {
   "cell_type": "code",
   "execution_count": null,
   "metadata": {},
   "outputs": [],
   "source": [
    "ctmc_a = np.asarray(ctmc_list['Q'])\n",
    "\n",
    "#plt.plot(ctmc_list['n'], ctmc_a[:,0,0])\n",
    "#plt.plot(ctmc_list['n'], ctmc_a[:,1,1])\n",
    "#plt.plot(ctmc_list['n'], ctmc_a[:,2,2])\n",
    "plt.plot(dt*np.asarray(ctmc_list['n']), ctmc_a[:,0,0], marker='o')"
   ]
  },
  {
   "cell_type": "code",
   "execution_count": null,
   "metadata": {},
   "outputs": [],
   "source": [
    "n1=[1,2,3]\n",
    "list(n1)"
   ]
  },
  {
   "cell_type": "code",
   "execution_count": null,
   "metadata": {},
   "outputs": [],
   "source": [
    "means = np.mean(dyn, axis=0)\n",
    "for i in range(3):\n",
    "    means[i,i] -= 1\n",
    "stds = np.std(dyn, axis=0)"
   ]
  },
  {
   "cell_type": "code",
   "execution_count": null,
   "metadata": {},
   "outputs": [],
   "source": [
    "for item in [64, 32, 16, 8, 4, 2]:"
   ]
  },
  {
   "cell_type": "code",
   "execution_count": null,
   "metadata": {},
   "outputs": [],
   "source": [
    "P_dt_1"
   ]
  },
  {
   "cell_type": "code",
   "execution_count": null,
   "metadata": {},
   "outputs": [],
   "source": [
    "P_10dt_1"
   ]
  },
  {
   "cell_type": "code",
   "execution_count": null,
   "metadata": {},
   "outputs": [],
   "source": [
    "Q_dt"
   ]
  },
  {
   "cell_type": "code",
   "execution_count": null,
   "metadata": {},
   "outputs": [],
   "source": [
    "P_200dt_1"
   ]
  },
  {
   "cell_type": "code",
   "execution_count": null,
   "metadata": {},
   "outputs": [],
   "source": [
    "np.linalg.det(P)"
   ]
  },
  {
   "cell_type": "code",
   "execution_count": null,
   "metadata": {},
   "outputs": [],
   "source": [
    "np.linalg.matrix_power(P,10)"
   ]
  },
  {
   "cell_type": "code",
   "execution_count": null,
   "metadata": {},
   "outputs": [],
   "source": [
    "v_i_2 = (1-means[0,0])/(10*dt)\n",
    "v_i_2"
   ]
  },
  {
   "cell_type": "code",
   "execution_count": null,
   "metadata": {},
   "outputs": [],
   "source": [
    "v_i = (1-means[0,0])/dt\n",
    "v_i"
   ]
  },
  {
   "cell_type": "code",
   "execution_count": null,
   "metadata": {},
   "outputs": [],
   "source": [
    "means[0,1]/(v_i*dt)"
   ]
  },
  {
   "cell_type": "code",
   "execution_count": null,
   "metadata": {},
   "outputs": [],
   "source": [
    "means[0,2]/(v_i*10*dt)"
   ]
  },
  {
   "cell_type": "code",
   "execution_count": null,
   "metadata": {},
   "outputs": [],
   "source": [
    "means[0,2]/(v_i*dt)"
   ]
  },
  {
   "cell_type": "code",
   "execution_count": null,
   "metadata": {},
   "outputs": [],
   "source": [
    "means[0,1]/(v_i*dt)/v_i"
   ]
  },
  {
   "cell_type": "code",
   "execution_count": null,
   "metadata": {},
   "outputs": [],
   "source": [
    "means[0,2]/(v_i*dt)/v_i"
   ]
  },
  {
   "cell_type": "code",
   "execution_count": null,
   "metadata": {},
   "outputs": [],
   "source": [
    "ensemble.markovity_test(dyn);"
   ]
  },
  {
   "cell_type": "code",
   "execution_count": null,
   "metadata": {},
   "outputs": [],
   "source": [
    "np.mean(dyn, axis=0)[1:,0]/(np.mean(dyn, axis=0)[1:,0].sum())"
   ]
  },
  {
   "cell_type": "code",
   "execution_count": null,
   "metadata": {},
   "outputs": [],
   "source": [
    "fig, ax = plt.subplots()\n",
    "ax.set_title('$\\\\langle W \\\\rangle_{min}$')"
   ]
  },
  {
   "cell_type": "code",
   "execution_count": null,
   "metadata": {},
   "outputs": [],
   "source": []
  }
 ],
 "metadata": {
  "interpreter": {
   "hash": "c48eea1d6fe0303de93a25029b75a26fa311fe2cfce1f013702fed1a8d75264d"
  },
  "kernelspec": {
   "display_name": "Python 3",
   "language": "python",
   "name": "python3"
  },
  "language_info": {
   "codemirror_mode": {
    "name": "ipython",
    "version": 3
   },
   "file_extension": ".py",
   "mimetype": "text/x-python",
   "name": "python",
   "nbconvert_exporter": "python",
   "pygments_lexer": "ipython3",
   "version": "3.11.7"
  }
 },
 "nbformat": 4,
 "nbformat_minor": 4
}
