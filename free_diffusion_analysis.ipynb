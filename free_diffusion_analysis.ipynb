{
 "cells": [
  {
   "cell_type": "code",
   "execution_count": null,
   "metadata": {},
   "outputs": [],
   "source": [
    "import numpy as np\n",
    "import matplotlib.pyplot as plt\n",
    "from weight_discovery import *\n",
    "from free_diffusion import *"
   ]
  },
  {
   "cell_type": "code",
   "execution_count": null,
   "metadata": {},
   "outputs": [],
   "source": [
    "from kyle_tools import rc_dict\n",
    "\n",
    "rc_dict['legend.loc'] = 'upper right'\n",
    "rc_dict['legend.fontsize'] = 12\n",
    "\n",
    "for k,v in rc_dict.items():\n",
    "    plt.rcParams[k] = v\n",
    "\n"
   ]
  },
  {
   "cell_type": "code",
   "execution_count": null,
   "metadata": {},
   "outputs": [],
   "source": []
  },
  {
   "cell_type": "code",
   "execution_count": null,
   "metadata": {},
   "outputs": [],
   "source": [
    "init_params = [.2,.3,.025]\n",
    "#init_params = [1,.1,.1]\n",
    "#ini_params = [1,.6,.1]\n",
    "#plt.plot(realepr(np.linspace(0,.25,1000),*init_params))\n",
    "params['init'] = init_params"
   ]
  },
  {
   "cell_type": "code",
   "execution_count": null,
   "metadata": {},
   "outputs": [],
   "source": [
    "#Parameters\n",
    "#sim params\n",
    "T = .25# Total time\n",
    "dt = 0.001\n",
    "num_steps = int(T / dt)\n",
    "num_paths = 500_000\n",
    "\n",
    "sim_params = [num_paths, num_steps, dt]\n",
    "\n",
    "params['sim'] = sim_params\n",
    "\n",
    "#this will skip steps when saving the output to save memory\n",
    "skip = 1\n"
   ]
  },
  {
   "cell_type": "code",
   "execution_count": null,
   "metadata": {},
   "outputs": [],
   "source": [
    "# Simulate the process\n",
    "process = simulate_free_diffusion_underdamped(params, save_skip=skip)\n",
    "process.shape\n"
   ]
  },
  {
   "cell_type": "code",
   "execution_count": null,
   "metadata": {},
   "outputs": [],
   "source": [
    "num_est = 6\n",
    "time_step = 20\n",
    "\n",
    "proc_dt = dt * skip\n",
    "\n",
    "ep = get_step_epr(process, time_step, proc_dt, params['gamma'], num_est)\n",
    "\n"
   ]
  },
  {
   "cell_type": "code",
   "execution_count": null,
   "metadata": {},
   "outputs": [],
   "source": [
    "#steps = [10, 50, 100, 200, 300, 400, 485 ]\n",
    "steps = [ int(5*i) for i in  [1, 2, 4.2, 10, 15, 20, 25, 35, 47]]\n",
    "eps=[]\n",
    "for time_step in steps:\n",
    "    eps.append(get_step_epr(process, time_step, proc_dt, params['gamma'], num_est))\n"
   ]
  },
  {
   "cell_type": "code",
   "execution_count": null,
   "metadata": {},
   "outputs": [],
   "source": [
    "fig, ax = plt.subplots()\n",
    "ax.plot(np.arange(0,T,proc_dt),theo, c='k')\n",
    "\n",
    "\n",
    "ax.scatter([s*proc_dt for s in steps], eps, marker='D')"
   ]
  },
  {
   "cell_type": "code",
   "execution_count": null,
   "metadata": {},
   "outputs": [],
   "source": [
    "num_iter = 100\n",
    "\n",
    "num_ests = [4, 6, 9, 10]\n",
    "steps = [1, 3, 5, 15, 30, 100]\n",
    "all_estimates = []\n",
    "\n",
    "for i in range(num_iter):\n",
    "    process = simulate_free_diffusion_underdamped(num_paths, num_steps, dt, *params['init'], save_skip=skip)\n",
    "    print(f'sim {i} done', end='\\r')\n",
    "\n",
    "    estimates = []\n",
    "    for num_est in num_ests:\n",
    "        n_resolved_estimates=[]\n",
    "        for time_step in steps:\n",
    "            ep = get_step_epr(process, time_step, proc_dt, gamma, num_est)\n",
    "            n_resolved_estimates.append(ep)\n",
    "        estimates.append(n_resolved_estimates)\n",
    "        print(f'finished {i} run of {num_est} estimates', end='\\r')\n",
    "    \n",
    "    all_estimates.append(estimates)\n"
   ]
  },
  {
   "cell_type": "code",
   "execution_count": null,
   "metadata": {},
   "outputs": [],
   "source": [
    "flst = kt.file_list('data/free_diff/mats/E10/')\n",
    "flst.sort()\n",
    "flst\n"
   ]
  },
  {
   "cell_type": "code",
   "execution_count": null,
   "metadata": {},
   "outputs": [],
   "source": [
    "flst = flst[2:3]\n",
    "flst"
   ]
  },
  {
   "cell_type": "code",
   "execution_count": null,
   "metadata": {},
   "outputs": [],
   "source": [
    "#import data\n",
    "#flst = kt.file_list('24_03_14/')\n",
    "#flst = kt.file_list('data/free_diff/')\n",
    "\n",
    "\n",
    "\n",
    "#data_list = [[kt.open_json(item) for item in flst ][0]]\n",
    "data_list = [kt.open_json(item) for item in flst ]\n",
    "skip=1\n",
    "\n",
    "\n",
    "\n",
    "\n"
   ]
  },
  {
   "cell_type": "code",
   "execution_count": null,
   "metadata": {},
   "outputs": [],
   "source": [
    "data_list[0]['params']['sim'][0]"
   ]
  },
  {
   "cell_type": "code",
   "execution_count": null,
   "metadata": {},
   "outputs": [],
   "source": [
    "data_list[0]['params']"
   ]
  },
  {
   "cell_type": "code",
   "execution_count": null,
   "metadata": {},
   "outputs": [],
   "source": []
  },
  {
   "cell_type": "code",
   "execution_count": null,
   "metadata": {},
   "outputs": [],
   "source": [
    "idxs = range(len(data_list))\n",
    "percent = .15\n",
    "pwr = 2\n",
    "\n",
    "num_path = []\n",
    "data = []\n",
    "reg_datas = []\n",
    "\n",
    "for idx in idxs:\n",
    "    print(idx)\n",
    "\n",
    "    #pt = 1E13*np.percentile(data_list[idx]['Xis'], percent, axis=(-1,-2))[:,:,:20,None,None] * np.identity(data_list[idx]['Xis'].shape[-1])[None,None,None,:,:] / (data_list[idx]['params']['sim'][0])**pwr\n",
    "    pt =  np.identity(data_list[idx]['Xis'].shape[-1])[None,None,None,:,:] / (data_list[idx]['params']['sim'][0])**pwr\n",
    "\n",
    "    reg_X = pt + data_list[idx]['Xis']\n",
    "\n",
    "    reg_data = np.empty(data_list[idx]['data'].shape)\n",
    "\n",
    "    for i in range(reg_X.shape[0]):\n",
    "        for j in range(reg_X.shape[1]):\n",
    "            for k in range(reg_X.shape[2]):\n",
    "                X = reg_X[i,j,k]\n",
    "                mu = data_list[idx]['mus'][i,j,k,...]\n",
    "                reg_data[i,j,k] = (mu @ np.linalg.inv(X) @ mu) / data_list[idx]['params']['sim'][-1]\n",
    "\n",
    "    data_list[idx]['reg_data'] = reg_data\n",
    "    data_list[idx]['reg_Xis'] = reg_X\n",
    "\n",
    "    num_path.append(data_list[idx]['params']['sim'][0])\n",
    "    data.append(data_list[idx]['data'])\n",
    "    reg_datas.append(reg_data)\n",
    "\n"
   ]
  },
  {
   "cell_type": "code",
   "execution_count": null,
   "metadata": {},
   "outputs": [],
   "source": []
  },
  {
   "cell_type": "code",
   "execution_count": null,
   "metadata": {},
   "outputs": [],
   "source": [
    "output_dict = {}\n",
    "keys = list(data_list[idx].keys())\n",
    "print(keys)\n",
    "for i,item in enumerate(keys):\n",
    "    if 'Xis' in item:\n",
    "        del(keys[i])\n",
    "\n",
    "for k in keys:\n",
    "    output_dict[k] = data_list[idx][k]\n",
    "\n",
    "output_dict['data'] = data\n",
    "output_dict['num_path'] = num_path\n",
    "output_dict['reg_data'] = reg_datas\n",
    "\n",
    "output_dict['reg_param'] = 'pwr=2'\n"
   ]
  },
  {
   "cell_type": "code",
   "execution_count": null,
   "metadata": {},
   "outputs": [],
   "source": []
  },
  {
   "cell_type": "code",
   "execution_count": null,
   "metadata": {},
   "outputs": [],
   "source": [
    "kt.save_as_json(output_dict, dir='./data/free_diff/mats/', name='OS_rate_reg_E06')"
   ]
  },
  {
   "cell_type": "code",
   "execution_count": null,
   "metadata": {},
   "outputs": [],
   "source": [
    "all_estimates.shape"
   ]
  },
  {
   "cell_type": "code",
   "execution_count": null,
   "metadata": {},
   "outputs": [],
   "source": [
    "\n",
    "#datakey = 'data'\n",
    "datakey = 'reg_data'\n",
    "\n",
    "\n",
    "\n",
    "data = [ d[datakey] for d in data_list]\n",
    "\n",
    "all_estimates = np.array(data)\n",
    "\n",
    "#print([d.shape for d in data])\n",
    "#all_estimates = (np.vstack(data)/skip**2)\n",
    "\n",
    "\n",
    "\n",
    "\n",
    "dt = data_list[0]['params']['sim'][-1]\n",
    "steps = data_list[0]['steps']\n",
    "num_ests =  data_list[0]['num_ests']\n",
    "num_iter = len(all_estimates)\n",
    "num_paths = data_list[0]['params']['sim'][0]\n",
    "params = data_list[0]['params']\n",
    "times =  data_list[0]['t']\n",
    "\n",
    "all_e = all_estimates\n",
    "\n",
    "means = all_e.mean(axis=1).squeeze()\n",
    "stds = all_e.std(axis=1).squeeze()\n"
   ]
  },
  {
   "cell_type": "code",
   "execution_count": null,
   "metadata": {},
   "outputs": [],
   "source": [
    "num_path"
   ]
  },
  {
   "cell_type": "code",
   "execution_count": null,
   "metadata": {},
   "outputs": [],
   "source": [
    "means.shape"
   ]
  },
  {
   "cell_type": "code",
   "execution_count": null,
   "metadata": {},
   "outputs": [],
   "source": [
    "plt.plot(times, theo, c='k', linestyle='--', zorder=10000)\n",
    "plt.errorbar(times[:-2], means, yerr=stds);"
   ]
  },
  {
   "cell_type": "code",
   "execution_count": null,
   "metadata": {},
   "outputs": [],
   "source": [
    "pmeans.shape"
   ]
  },
  {
   "cell_type": "code",
   "execution_count": null,
   "metadata": {},
   "outputs": [],
   "source": [
    "'''\n",
    "keys = ['estimates', 'N', 'p0,Sp0,Sx0', 'dt', 'proc_dt', 'num_est', 'steps', 'gamma']\n",
    "vals = [all_e, num_paths, ini_params, dt, proc_dt, num_ests, steps, gamma]\n",
    "\n",
    "save_dict = {k:v for k,v in zip(keys, vals)}\n",
    "kt.save_as_json(save_dict, 'free_diff_monotonic')\n",
    "'''"
   ]
  },
  {
   "cell_type": "code",
   "execution_count": null,
   "metadata": {},
   "outputs": [],
   "source": [
    "len(all_e[0])"
   ]
  },
  {
   "cell_type": "code",
   "execution_count": null,
   "metadata": {},
   "outputs": [],
   "source": [
    "fig, ax = plt.subplots(1,2,figsize=(7.5,4.75), width_ratios=[1.5,1])\n",
    "proc_dt = dt * skip\n",
    "\n",
    "plot_skip =3\n",
    "\n",
    "theo = realepr(times,*params['init'])\n",
    "\n",
    "\n",
    "\n",
    "\n",
    "\n",
    "for i in range(means.shape[0]):\n",
    "    if i in [0,2,4]:\n",
    "        num_paths = num_path[i]\n",
    "        dot_args = {'markersize':6, 'marker':'.', 'linestyle':'none', 'alpha':.7, }\n",
    "        #ax[0].errorbar([s*proc_dt for s in steps], pmeans[i,:], yerr=3*pstds[i,:]/np.sqrt(len(all_e)), markersize=4, marker='D', label=f'{pnum_ests[i]**2} estimates', linestyle='none', alpha=.4 )\n",
    "        ax[0].errorbar([s*proc_dt for s in steps][::plot_skip], means[i,::plot_skip], yerr=3*stds[i,::plot_skip]/np.sqrt(len(all_e)), label=f'$N=${num_paths}', **dot_args )\n",
    "\n",
    "        ax[1].errorbar([proc_dt*(s+i/6) for s in steps][::plot_skip], (means[i,::plot_skip]-theo[steps][::plot_skip])/theo[steps][::plot_skip], yerr=3*stds[i,::plot_skip]/(np.sqrt(len(all_e[i]))*theo[steps][::plot_skip]),**dot_args)\n",
    "        #ax[1].errorbar([proc_dt*(s+i/6) for s in steps], (means[i,:]-theo[steps]), yerr=3*stds[i,:]/np.sqrt(num_iter), marker='D', linestyle='none' )\n",
    "\n",
    "\n",
    "ax[0].plot(times, theo, c='k', linestyle='--', zorder=10000, label='$\\Sigma$')\n",
    "#fig.legend()\n",
    "\n",
    "#for i, e in zip(idxs,estimates):\n",
    "#    ax.scatter(i, e , color='r', marker='D')\n",
    "\n",
    "#ax[0].set_yscale('log')\n",
    "#ax[1].set_xscale('log')\n",
    "#fig.suptitle(f\"N={num_paths}, dt={proc_dt}, params={params['init']}, n_iteration={len(all_e)}\")\n",
    "#fig.suptitle(f\"{pnum_ests[0]**2} estimators, dt={proc_dt}, params={params['init']}, n_iteration={len(all_e)}\")\n",
    "\n",
    "#ax[1].axhline(0, c='k')\n",
    "ax[0].set_xlabel('t')\n",
    "\n",
    "ax[1].set_ylim([-.1,.1])\n",
    "ax[0].set_ylim([5,15])\n"
   ]
  },
  {
   "cell_type": "code",
   "execution_count": null,
   "metadata": {},
   "outputs": [],
   "source": []
  },
  {
   "cell_type": "code",
   "execution_count": null,
   "metadata": {},
   "outputs": [],
   "source": [
    "\n",
    "fig.legends = []"
   ]
  },
  {
   "cell_type": "code",
   "execution_count": null,
   "metadata": {},
   "outputs": [],
   "source": [
    "fig.legend()\n",
    "#fig.legends = []\n",
    "\n",
    "ax[1].set_ylim([-.05,.1])\n",
    "ax[0].set_ylim([5.5,10])\n",
    "ax[1].axhline(0, c='k', linestyle='--', zorder=100)\n",
    "ax[0].set_ylabel('$\\hat{\\Sigma}$')\n",
    "ax[1].set_xlabel('t')\n",
    "ax[1].set_ylabel('$\\hat{\\Sigma}$ relative error')\n",
    "fig"
   ]
  },
  {
   "cell_type": "code",
   "execution_count": null,
   "metadata": {},
   "outputs": [],
   "source": [
    "EPR_scaling_10est_20iter_250steps_10_100_1000.pdf"
   ]
  },
  {
   "cell_type": "code",
   "execution_count": null,
   "metadata": {},
   "outputs": [],
   "source": [
    "fig.savefig('EPR_scaling_10est_20iter_250steps_10_100_1000.pdf')"
   ]
  },
  {
   "cell_type": "code",
   "execution_count": null,
   "metadata": {},
   "outputs": [],
   "source": [
    "EP.shape"
   ]
  },
  {
   "cell_type": "code",
   "execution_count": null,
   "metadata": {},
   "outputs": [],
   "source": [
    "EP_theo[ssteps]"
   ]
  },
  {
   "cell_type": "code",
   "execution_count": null,
   "metadata": {},
   "outputs": [],
   "source": [
    "all_e[...,:-1][...,::2].shape"
   ]
  },
  {
   "cell_type": "code",
   "execution_count": null,
   "metadata": {},
   "outputs": [],
   "source": [
    "np.linspace(0,1,10)[0:-1::2]"
   ]
  },
  {
   "cell_type": "code",
   "execution_count": null,
   "metadata": {},
   "outputs": [],
   "source": [
    "len(ssteps)"
   ]
  },
  {
   "cell_type": "code",
   "execution_count": null,
   "metadata": {},
   "outputs": [],
   "source": [
    "EP.shape"
   ]
  },
  {
   "cell_type": "code",
   "execution_count": null,
   "metadata": {},
   "outputs": [],
   "source": [
    "#fig, ax = plt.subplots(1,2, figsize=(15,5))\n",
    "\n",
    "EP_skip = 1\n",
    "ssteps = steps[::EP_skip][:-1]\n",
    "print(len(ssteps))\n",
    "\n",
    "EP = np.cumsum( (np.diff(times[steps[::EP_skip]]))*(all_e[...,::EP_skip][:,:,:-1]), axis=-1)[...,:]\n",
    "EP_M = np.mean(EP, axis=0)\n",
    "EP_S = 3*np.std(EP, axis=0)/(np.sqrt(EP.shape[0])) \n",
    "EP_theo = proc_dt* np.cumsum(theo)\n",
    "\n",
    "#ax[0].plot(times, EP_theo, c='k')\n",
    "\n",
    "for item in EP[:,0,:]:\n",
    "    ax[0].plot([s*proc_dt for s in ssteps], item-EP_theo[ssteps], alpha=.5)\n",
    "\n",
    "\n",
    "for m,s,n in zip (EP_M, EP_S, num_ests):\n",
    "    print( (m-EP_theo[ssteps]).shape, s.shape, n,)\n",
    "    ax[1].errorbar([s*proc_dt for s in ssteps], (m-EP_theo[ssteps])/EP_theo[ssteps], yerr=s/EP_theo[ssteps], marker='o', label=f'{n}', alpha=.5 );\n",
    "\n",
    "fig.legend()\n",
    "ax[1].axhline(0, c='k')\n",
    "#ax.set_xlim(.1,.25)\n",
    "#ax[1].set_ylim(-.02,.1)"
   ]
  },
  {
   "cell_type": "code",
   "execution_count": null,
   "metadata": {},
   "outputs": [],
   "source": [
    "ax[1].set_ylim(-.02,.1)\n",
    "fig"
   ]
  },
  {
   "cell_type": "code",
   "execution_count": null,
   "metadata": {},
   "outputs": [],
   "source": [
    "fig, ax = plt.subplots(1,2)\n",
    "\n",
    "ssteps = steps[:-1]\n",
    "\n",
    "EP = np.cumsum((np.diff(times[steps]))*(all_e[...,:-1]), axis=-1)[:,:-2]\n",
    "EP_M = np.mean(EP, axis=0)\n",
    "EP_S = 3*np.std(EP, axis=0)/(np.sqrt(EP.shape[0])) \n",
    "EP_theo = proc_dt* np.cumsum(theo)\n",
    "\n",
    "#ax[0].plot(times, EP_theo, c='k')\n",
    "\n",
    "for item in EP[:,-1,:]:\n",
    "    ax[0].plot([s*proc_dt for s in ssteps], item-EP_theo[ssteps], alpha=.5)\n",
    "\n",
    "\n",
    "for m,s,n in zip (EP_M, EP_S, num_ests):\n",
    "    print( (m-EP_theo[ssteps]).shape, s.shape, n,)\n",
    "    ax[1].errorbar([s*proc_dt for s in ssteps], (m-EP_theo[ssteps])/EP_theo[ssteps], yerr=s/EP_theo[ssteps], marker='o', label=f'{n}', alpha=.5 );\n",
    "\n",
    "fig.legend()\n",
    "ax[1].axhline(0, c='k')\n",
    "#ax.set_xlim(.1,.25)\n",
    "ax[1].set_ylim(-.01,.01)"
   ]
  },
  {
   "cell_type": "code",
   "execution_count": null,
   "metadata": {},
   "outputs": [],
   "source": [
    "fig, ax = plt.subplots(1,2)\n",
    "\n",
    "ssteps = steps[:-1]\n",
    "\n",
    "EP = np.cumsum((np.diff(times[steps]))*(all_e[...,:-1]), axis=-1)[:,:-2]\n",
    "EP_M = np.mean(EP, axis=0)\n",
    "EP_S = 3*np.std(EP, axis=0)/(np.sqrt(EP.shape[0])) \n",
    "EP_theo = proc_dt* np.cumsum(theo)\n",
    "\n",
    "#ax[0].plot(times, EP_theo, c='k')\n",
    "\n",
    "for item in EP[:,-1,:]:\n",
    "    ax[0].plot([s*proc_dt for s in ssteps], item-EP_theo[ssteps], alpha=.5)\n",
    "\n",
    "\n",
    "for m,s,n in zip (EP_M, EP_S, num_ests):\n",
    "    print( (m-EP_theo[ssteps]).shape, s.shape, n,)\n",
    "    ax[1].errorbar([s*proc_dt for s in ssteps], (m-EP_theo[ssteps])/EP_theo[ssteps], yerr=s/EP_theo[ssteps], marker='o', label=f'{n}', alpha=.5 );\n",
    "\n",
    "fig.legend()\n",
    "ax[1].axhline(0, c='k')\n",
    "#ax.set_xlim(.1,.25)\n",
    "ax[1].set_ylim(-.01,.01)"
   ]
  },
  {
   "cell_type": "code",
   "execution_count": null,
   "metadata": {},
   "outputs": [],
   "source": [
    "EP[22,:,-1]"
   ]
  },
  {
   "cell_type": "code",
   "execution_count": null,
   "metadata": {},
   "outputs": [],
   "source": [
    "EM = np.argmax(all_e, axis=0)\n",
    "np.argmax(EM, axis=0)"
   ]
  },
  {
   "cell_type": "code",
   "execution_count": null,
   "metadata": {},
   "outputs": [],
   "source": [
    "fig, ax = plt.subplots(1,2,figsize=(15,10))\n",
    "\n",
    "theo = realepr(np.arange(0,T,proc_dt),*ini_params )\n",
    "\n",
    "\n",
    "\n",
    "for i in range(0,4):\n",
    "    ax[0].plot(np.arange(0,T,proc_dt),theo, c='k', linestyle='--')\n",
    "    ax[0].errorbar([s*proc_dt for s in steps], means[i,:], yerr=3*stds[i,:]/np.sqrt(num_iter), marker='D', label=f'{num_ests[i]} estimators', linestyle='none' )\n",
    "\n",
    "    ax[1].errorbar([proc_dt*(s+i/6) for s in steps], (means[i,:]-theo[steps])/theo[steps], yerr=3*stds[i,:]/np.sqrt(num_iter)/theo[steps], marker='D', linestyle='none' )\n",
    "\n",
    "\n",
    "fig.legend()\n",
    "\n",
    "#for i, e in zip(idxs,estimates):\n",
    "#    ax.scatter(i, e , color='r', marker='D')\n",
    "\n",
    "#ax[0].set_yscale('log')\n",
    "ax[1].set_xscale('log')\n",
    "fig.suptitle(f'N={num_paths}, dt={proc_dt}, params={ini_params}, n_iteration={num_iter}')\n",
    "\n",
    "ax[1].axhline(0, c='k')\n",
    "ax[0].set_xlabel('t')\n",
    "ax[0].set_ylabel('entropy rate')\n",
    "ax[1].set_xlabel('time step')\n",
    "ax[1].set_ylabel('percent error')\n",
    "\n"
   ]
  },
  {
   "cell_type": "code",
   "execution_count": null,
   "metadata": {},
   "outputs": [],
   "source": [
    "fig.savefig('ep_estimation_nonmonoE10.pdf')"
   ]
  },
  {
   "cell_type": "code",
   "execution_count": null,
   "metadata": {},
   "outputs": [],
   "source": []
  }
 ],
 "metadata": {
  "kernelspec": {
   "display_name": "base",
   "language": "python",
   "name": "python3"
  },
  "language_info": {
   "codemirror_mode": {
    "name": "ipython",
    "version": 3
   },
   "file_extension": ".py",
   "mimetype": "text/x-python",
   "name": "python",
   "nbconvert_exporter": "python",
   "pygments_lexer": "ipython3",
   "version": "3.11.7"
  }
 },
 "nbformat": 4,
 "nbformat_minor": 2
}
