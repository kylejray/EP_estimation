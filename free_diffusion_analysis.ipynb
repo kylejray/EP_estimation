{
 "cells": [
  {
   "cell_type": "code",
   "execution_count": null,
   "metadata": {},
   "outputs": [],
   "source": [
    "import numpy as np\n",
    "import matplotlib.pyplot as plt\n",
    "from weight_discovery import *\n",
    "from free_diffusion import *"
   ]
  },
  {
   "cell_type": "code",
   "execution_count": null,
   "metadata": {},
   "outputs": [],
   "source": [
    "init_params = [.2,.3,.025]\n",
    "#init_params = [1,.1,.1]\n",
    "#ini_params = [1,.6,.1]\n",
    "plt.plot(realepr(np.linspace(0,.25,1000),*init_params))\n",
    "params['init'] = init_params"
   ]
  },
  {
   "cell_type": "code",
   "execution_count": null,
   "metadata": {},
   "outputs": [],
   "source": [
    "#Parameters\n",
    "#sim params\n",
    "T = .25# Total time\n",
    "dt = 0.001\n",
    "num_steps = int(T / dt)\n",
    "num_paths = 500_000\n",
    "\n",
    "sim_params = [num_paths, num_steps, dt]\n",
    "\n",
    "params['sim'] = sim_params\n"
   ]
  },
  {
   "cell_type": "code",
   "execution_count": null,
   "metadata": {},
   "outputs": [],
   "source": [
    "# Simulate the process\n",
    "#this will skip steps when saving the output to save memory\n",
    "skip = 1\n",
    "\n",
    "process = simulate_free_diffusion_underdamped(params, save_skip=skip)\n",
    "process.shape\n"
   ]
  },
  {
   "cell_type": "code",
   "execution_count": null,
   "metadata": {},
   "outputs": [],
   "source": [
    "num_est = 6\n",
    "time_step = 20\n",
    "\n",
    "proc_dt = dt * skip\n",
    "\n",
    "ep = get_step_epr(process, time_step, proc_dt, params['gamma'], num_est)"
   ]
  },
  {
   "cell_type": "code",
   "execution_count": null,
   "metadata": {},
   "outputs": [],
   "source": [
    "fig, ax = plt.subplots()\n",
    "theo = realepr(np.arange(0,T,proc_dt),*params['init'] )\n",
    "\n",
    "ax.plot(np.arange(0,T,proc_dt),theo, c='k')\n",
    "ax.scatter(time_step*proc_dt, ep, marker='D')"
   ]
  },
  {
   "cell_type": "code",
   "execution_count": null,
   "metadata": {},
   "outputs": [],
   "source": [
    "\n",
    "num_est = 10\n",
    "\n",
    "#steps = [10, 50, 100, 200, 300, 400, 485 ]\n",
    "steps = [ int(5*i) for i in  [1, 2, 4.2, 10, 15, 20, 25, 35, 47]]\n",
    "eps=[]\n",
    "for time_step in steps:\n",
    "    eps.append(get_step_epr(process, time_step, proc_dt, params['gamma'], num_est))\n"
   ]
  },
  {
   "cell_type": "code",
   "execution_count": null,
   "metadata": {},
   "outputs": [],
   "source": [
    "fig, ax = plt.subplots()\n",
    "ax.plot(np.arange(0,T,proc_dt),theo, c='k')\n",
    "\n",
    "\n",
    "ax.scatter([s*proc_dt for s in steps], eps, marker='D')"
   ]
  },
  {
   "cell_type": "code",
   "execution_count": null,
   "metadata": {},
   "outputs": [],
   "source": []
  },
  {
   "cell_type": "code",
   "execution_count": null,
   "metadata": {},
   "outputs": [],
   "source": [
    "num_iter = 100\n",
    "\n",
    "num_ests = [4, 6, 9, 10]\n",
    "steps = [1, 3, 5, 15, 30, 100]\n",
    "all_estimates = []\n",
    "\n",
    "for i in range(num_iter):\n",
    "    process = simulate_free_diffusion_underdamped(num_paths, num_steps, dt, *ini_params, save_skip=skip)\n",
    "    print(f'sim {i} done', end='\\r')\n",
    "\n",
    "    estimates = []\n",
    "    for num_est in num_ests:\n",
    "        n_resolved_estimates=[]\n",
    "        for time_step in steps:\n",
    "            ep = get_step_epr(process, time_step, proc_dt, gamma, num_est)\n",
    "            n_resolved_estimates.append(ep)\n",
    "        estimates.append(n_resolved_estimates)\n",
    "        print(f'finished {i} run of {num_est} estimates', end='\\r')\n",
    "    \n",
    "    all_estimates.append(estimates)\n"
   ]
  },
  {
   "cell_type": "code",
   "execution_count": null,
   "metadata": {},
   "outputs": [],
   "source": [
    "all_e = np.array(all_estimates)\n",
    "means = all_e.mean(axis=0)\n",
    "stds = all_e.std(axis=0)\n"
   ]
  },
  {
   "cell_type": "code",
   "execution_count": null,
   "metadata": {},
   "outputs": [],
   "source": [
    "all_e.shape\n"
   ]
  },
  {
   "cell_type": "code",
   "execution_count": null,
   "metadata": {},
   "outputs": [],
   "source": [
    "'''\n",
    "keys = ['estimates', 'N', 'p0,Sp0,Sx0', 'dt', 'proc_dt', 'num_est', 'steps', 'gamma']\n",
    "vals = [all_e, num_paths, ini_params, dt, proc_dt, num_ests, steps, gamma]\n",
    "\n",
    "save_dict = {k:v for k,v in zip(keys, vals)}\n",
    "kt.save_as_json(save_dict, 'free_diff_monotonic')\n",
    "'''"
   ]
  },
  {
   "cell_type": "code",
   "execution_count": null,
   "metadata": {},
   "outputs": [],
   "source": [
    "fig, ax = plt.subplots(1,2,figsize=(15,10))\n",
    "\n",
    "theo = realepr(np.arange(0,T,proc_dt),*ini_params )\n",
    "\n",
    "\n",
    "\n",
    "for i in range(0,4):\n",
    "    ax[0].plot(np.arange(0,T,proc_dt),theo, c='k', linestyle='--')\n",
    "    ax[0].errorbar([s*proc_dt for s in steps], means[i,:], yerr=3*stds[i,:]/np.sqrt(num_iter), marker='D', label=f'{num_ests[i]} estimates', linestyle='none' )\n",
    "\n",
    "    ax[1].errorbar([proc_dt*(s+i/6) for s in steps], (means[i,:]-theo[steps])/theo[steps], yerr=3*stds[i,:]/np.sqrt(num_iter)/theo[steps], marker='D', linestyle='none' )\n",
    "    #ax[1].errorbar([proc_dt*(s+i/6) for s in steps], (means[i,:]-theo[steps]), yerr=3*stds[i,:]/np.sqrt(num_iter), marker='D', linestyle='none' )\n",
    "\n",
    "\n",
    "\n",
    "fig.legend()\n",
    "\n",
    "#for i, e in zip(idxs,estimates):\n",
    "#    ax.scatter(i, e , color='r', marker='D')\n",
    "\n",
    "ax[0].set_yscale('log')\n",
    "ax[1].set_xscale('log')\n",
    "fig.suptitle(f'N={num_paths}, dt={proc_dt}, params={ini_params}, n_iteration={num_iter}')\n",
    "\n",
    "ax[1].axhline(0, c='k')\n",
    "ax[0].set_xlabel('t')\n",
    "ax[0].set_ylabel('entropy rate')\n",
    "ax[1].set_xlabel('time step')\n",
    "ax[1].set_ylabel('percent error')"
   ]
  },
  {
   "cell_type": "code",
   "execution_count": null,
   "metadata": {},
   "outputs": [],
   "source": [
    "fig, ax = plt.subplots(1,2,figsize=(15,10))\n",
    "\n",
    "theo = realepr(np.arange(0,T,proc_dt),*ini_params )\n",
    "\n",
    "\n",
    "\n",
    "for i in range(0,4):\n",
    "    ax[0].plot(np.arange(0,T,proc_dt),theo, c='k', linestyle='--')\n",
    "    ax[0].errorbar([s*proc_dt for s in steps], means[i,:], yerr=3*stds[i,:]/np.sqrt(num_iter), marker='D', label=f'{num_ests[i]} estimators', linestyle='none' )\n",
    "\n",
    "    ax[1].errorbar([proc_dt*(s+i/6) for s in steps], (means[i,:]-theo[steps])/theo[steps], yerr=3*stds[i,:]/np.sqrt(num_iter)/theo[steps], marker='D', linestyle='none' )\n",
    "\n",
    "\n",
    "fig.legend()\n",
    "\n",
    "#for i, e in zip(idxs,estimates):\n",
    "#    ax.scatter(i, e , color='r', marker='D')\n",
    "\n",
    "#ax[0].set_yscale('log')\n",
    "ax[1].set_xscale('log')\n",
    "fig.suptitle(f'N={num_paths}, dt={proc_dt}, params={ini_params}, n_iteration={num_iter}')\n",
    "\n",
    "ax[1].axhline(0, c='k')\n",
    "ax[0].set_xlabel('t')\n",
    "ax[0].set_ylabel('entropy rate')\n",
    "ax[1].set_xlabel('time step')\n",
    "ax[1].set_ylabel('percent error')\n",
    "\n"
   ]
  },
  {
   "cell_type": "code",
   "execution_count": null,
   "metadata": {},
   "outputs": [],
   "source": [
    "#fig.savefig('ep_estimation_mono_.pdf')"
   ]
  },
  {
   "cell_type": "code",
   "execution_count": null,
   "metadata": {},
   "outputs": [],
   "source": []
  }
 ],
 "metadata": {
  "kernelspec": {
   "display_name": "base",
   "language": "python",
   "name": "python3"
  },
  "language_info": {
   "codemirror_mode": {
    "name": "ipython",
    "version": 3
   },
   "file_extension": ".py",
   "mimetype": "text/x-python",
   "name": "python",
   "nbconvert_exporter": "python",
   "pygments_lexer": "ipython3",
   "version": "3.12.2"
  }
 },
 "nbformat": 4,
 "nbformat_minor": 2
}
