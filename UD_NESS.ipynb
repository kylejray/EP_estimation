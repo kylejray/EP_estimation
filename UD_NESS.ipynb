{
 "cells": [
  {
   "cell_type": "code",
   "execution_count": null,
   "metadata": {},
   "outputs": [],
   "source": [
    "import numpy as np\n",
    "import matplotlib.pyplot as plt\n",
    "from weight_discovery import *"
   ]
  },
  {
   "cell_type": "code",
   "execution_count": null,
   "metadata": {},
   "outputs": [],
   "source": [
    "from kyle_tools import rc_dict\n",
    "rc_dict['legend.loc'] = 'upper right'\n",
    "rc_dict['legend.fontsize'] = 12\n",
    "\n",
    "for k,v in rc_dict.items():\n",
    "    plt.rcParams[k] = v"
   ]
  },
  {
   "cell_type": "code",
   "execution_count": null,
   "metadata": {},
   "outputs": [],
   "source": [
    "files = [f'./data/jinghao_mystery_traj_dt_p001_ep_p25_{n}.npy' for n in [f'{N:02}' for N in range(11,14)]]\n",
    "\n",
    "process = np.array([np.load(item) for item in files]).squeeze()\n",
    "\n",
    "d=3\n",
    "\n",
    "s =  process.shape\n",
    "\n",
    "new_len = int(s[2]/d)\n",
    "new_process = np.empty( (s[0],d*s[1],new_len,s[-1]) )\n",
    "for i in range(d):\n",
    "    new_process[:,i*s[1]:(i+1)*s[1],:,:] = process[:,:,i*new_len:(i+1)*new_len ,:]\n",
    "    \n",
    "new_process = new_process.reshape(d*s[0]*s[1], new_len,s[-1])\n",
    "\n",
    "print(process.shape, new_process.shape)\n",
    "process = new_process\n"
   ]
  },
  {
   "cell_type": "code",
   "execution_count": null,
   "metadata": {},
   "outputs": [],
   "source": [
    "'''\n",
    "process = np.array(np.load('./PWL_UD_NESS_dt_p005_ep_p55_01.npy')).squeeze()\n",
    "\n",
    "d=25\n",
    "s =  process.shape\n",
    "\n",
    "new_len = int(s[1]/d)\n",
    "\n",
    "new_process = np.empty( (d*s[0],new_len,s[-1]) )\n",
    "for i in range(d):\n",
    "    new_process[i*s[0]:(i+1)*s[0],:,:] = process[:,i*new_len:(i+1)*new_len ,:]\n",
    "\n",
    "\n",
    "print(process.shape, new_process.shape)\n",
    "process = new_process\n"
   ]
  },
  {
   "cell_type": "code",
   "execution_count": null,
   "metadata": {},
   "outputs": [],
   "source": [
    "files = [f'./data/jinghao_mystery_traj_dt_p001_ep_p25_{n}.npy' for n in [f'{N:02}' for N in range(5,15)]]\n",
    "\n",
    "fles = [ [ files[i], files[i+1] ] for i in range(0,len(files)-1,2) ]"
   ]
  },
  {
   "cell_type": "code",
   "execution_count": null,
   "metadata": {},
   "outputs": [],
   "source": [
    "fig, ax = plt.subplots(len(files),2 , figsize=(10,20), sharex='col', sharey='col')\n",
    "\n",
    "for i,f in enumerate(files):\n",
    "    td = np.load(f)[...,1].ravel()\n",
    "    td1 = td[td>4]\n",
    "    td2 = td[td<-4]\n",
    "    ax[i,0].set_title(f'{len(td2)} {len(td1)}')\n",
    "    ax[i,0].hist(td2)\n",
    "    ax[i,1].hist(td1)\n",
    "    #ax[i].axvline(-4.9)\n",
    "    #ax[i].set_title(f'max:{np.max(td1)} min:{np.min(td)}')"
   ]
  },
  {
   "cell_type": "code",
   "execution_count": null,
   "metadata": {},
   "outputs": [],
   "source": [
    "fles"
   ]
  },
  {
   "cell_type": "code",
   "execution_count": null,
   "metadata": {},
   "outputs": [],
   "source": [
    "ep = []\n",
    "epmin = []\n",
    "epmax = []\n",
    "\n",
    "sample_list = []\n",
    "\n",
    "#for fls in fles:\n",
    "#        process = np.vstack(np.array([np.load(item) for item in fls]).squeeze())\n",
    "#        sp = process.shape\n",
    "#        d=3\n",
    "#        nl, ns = sp[0]*d, int(sp[1]/d)\n",
    "#        new_proc = np.empty( (nl, ns, sp[-1]) )\n",
    "#        for i in range(d):\n",
    "#                new_proc[i*sp[0]:(i+1)*sp[0],...] = process[:,i*ns:(i+1)*ns,:]\n",
    "#        process = new_proc\n",
    "print(process.shape)\n",
    "# for calcualting EPR\n",
    "dt=1/5000\n",
    "step_skip=5\n",
    "cg = 1\n",
    "K = 1\n",
    "samples = 20_000_000\n",
    "dx_state = process[:samples,::cg,0]\n",
    "cyclic_lims = [-1.5,1.5]\n",
    "dx = np.diff(dx_state, axis=1)\n",
    "if cyclic_lims is not None:\n",
    "        domain = np.diff(np.asarray(cyclic_lims))\n",
    "        jump_back = dx < -.8*domain\n",
    "        jump_forw = dx > .8*domain\n",
    "        dx[jump_back] = dx[jump_back] + domain\n",
    "        dx[jump_forw] = dx[jump_forw] - domain\n",
    "        ast = K*dx\n",
    "ast_d = ast/(cg*dt*step_skip)\n",
    "ent = ast_d.mean(axis=0)\n",
    "err = 3*ast_d.std(axis=0)/np.sqrt(len(process))\n",
    "ep.append(ent.mean())\n",
    "epmin.append(np.min(ent-err))\n",
    "epmax.append(np.max(ent+err))\n",
    "\n",
    "\n",
    "\n",
    "ax.errorbar( range(len(ast_d[0,:])), ent, yerr=err, linestyle='none', marker='D' );\n",
    "ax.axhline(ent.mean())\n",
    "print(ent.mean())"
   ]
  },
  {
   "cell_type": "code",
   "execution_count": null,
   "metadata": {},
   "outputs": [],
   "source": [
    "plt.plot(ep, marker='o')\n",
    "plt.plot(epmax)\n",
    "plt.plot(epmin)"
   ]
  },
  {
   "cell_type": "code",
   "execution_count": null,
   "metadata": {},
   "outputs": [],
   "source": [
    "plt.plot(ep, marker='o')\n",
    "plt.plot(epmax)\n",
    "plt.plot(epmin)"
   ]
  },
  {
   "cell_type": "code",
   "execution_count": null,
   "metadata": {},
   "outputs": [],
   "source": [
    "plt.plot(ep, marker='o')\n",
    "plt.plot(epmax)\n",
    "plt.plot(epmin)"
   ]
  },
  {
   "cell_type": "markdown",
   "metadata": {},
   "source": [
    "* 10M : 0.2542; .253, .256\n",
    "* 8M : .2542; .253, .256\n",
    "* 5 M: .2535; .252, .255"
   ]
  },
  {
   "cell_type": "code",
   "execution_count": null,
   "metadata": {},
   "outputs": [],
   "source": [
    "fig, ax  = plt.subplots()\n",
    "\n",
    "pcg = 1\n",
    "\n",
    "ax.errorbar( range(len(ast_d[0,::pcg])), ent[::pcg], yerr=3*err[::pcg]/np.sqrt(len(process[:samples])), linestyle='none', marker='D' );\n",
    "ax.axhline(ent.mean())"
   ]
  },
  {
   "cell_type": "code",
   "execution_count": null,
   "metadata": {},
   "outputs": [],
   "source": [
    "process.shape"
   ]
  },
  {
   "cell_type": "code",
   "execution_count": null,
   "metadata": {},
   "outputs": [],
   "source": [
    "num_est = 15\n",
    "time_step = 100\n",
    "gamma = 1\n",
    "proc_dt = .001\n",
    "kwargs = {'cyclic_lims':[-1.5,1.5]}\n",
    "\n"
   ]
  },
  {
   "cell_type": "code",
   "execution_count": null,
   "metadata": {},
   "outputs": [],
   "source": [
    "ep = m@np.linalg.inv(X)@m"
   ]
  },
  {
   "cell_type": "code",
   "execution_count": null,
   "metadata": {},
   "outputs": [],
   "source": [
    "ep/proc_dt"
   ]
  },
  {
   "cell_type": "code",
   "execution_count": null,
   "metadata": {},
   "outputs": [],
   "source": [
    "ep/proc_dt"
   ]
  },
  {
   "cell_type": "code",
   "execution_count": null,
   "metadata": {},
   "outputs": [],
   "source": [
    "xr = np.sort(X.ravel())\n",
    "X[X<xr[int(len(xr)*.15)]] = 0"
   ]
  },
  {
   "cell_type": "code",
   "execution_count": null,
   "metadata": {},
   "outputs": [],
   "source": [
    "fig, ax = plt.subplots()\n",
    "ax.plot(xr[:40_000])\n",
    "ax.set_yscale('log')\n",
    "ax.set_ylim(1e-30,np.max(xr))"
   ]
  },
  {
   "cell_type": "code",
   "execution_count": null,
   "metadata": {},
   "outputs": [],
   "source": [
    "fig, ax = plt.subplots()\n",
    "ax.set_xscale('log')\n",
    "\n",
    "ax.hist(X[X<1e-16].ravel())"
   ]
  },
  {
   "cell_type": "code",
   "execution_count": null,
   "metadata": {},
   "outputs": [],
   "source": [
    "\n",
    "num_est = 15\n",
    "\n",
    "#steps = [1, 3, 5, 15, 30, 100]\n",
    "steps = np.arange(0,50,1)\n",
    "\n",
    "mus = []\n",
    "Xis = []\n",
    "for time_step in steps:\n",
    "    mu,Xi = get_step_epr(process[:1_200_000], time_step, proc_dt, gamma, num_est, return_mats=True, **kwargs)\n",
    "    mus.append(mu)\n",
    "    Xis.append(Xi)\n",
    "\n",
    "\n"
   ]
  },
  {
   "cell_type": "code",
   "execution_count": null,
   "metadata": {},
   "outputs": [],
   "source": [
    "mu_avg = np.mean( np.array(mus), axis=0)\n",
    "Xi_avg = np.mean( np.array(Xis), axis=0)\n"
   ]
  },
  {
   "cell_type": "code",
   "execution_count": null,
   "metadata": {},
   "outputs": [],
   "source": [
    "tep = []\n",
    "for mu in mus:\n",
    "    tep.append((mu@np.linalg.inv(Xi_avg)@mu)/proc_dt)"
   ]
  },
  {
   "cell_type": "code",
   "execution_count": null,
   "metadata": {},
   "outputs": [],
   "source": []
  },
  {
   "cell_type": "code",
   "execution_count": null,
   "metadata": {},
   "outputs": [],
   "source": [
    "(mu_avg@np.linalg.inv(Xi_avg)@mu_avg)/proc_dt"
   ]
  },
  {
   "cell_type": "code",
   "execution_count": null,
   "metadata": {},
   "outputs": [],
   "source": [
    "(mu_avg@np.linalg.inv(Xi_avg)@mu_avg)/proc_dt"
   ]
  },
  {
   "cell_type": "code",
   "execution_count": null,
   "metadata": {},
   "outputs": [],
   "source": [
    "np.max(epsl_drop)"
   ]
  },
  {
   "cell_type": "code",
   "execution_count": null,
   "metadata": {},
   "outputs": [],
   "source": [
    "fig, ax = plt.subplots()\n",
    "\n",
    "ax.scatter(range(len(epsl)), epsl)\n",
    "ax.scatter(range(len(epsl_drop)), epsl_drop)\n",
    "\n",
    "colors = ['g','y' 'b']\n",
    "for i,eps in enumerate([tep]):\n",
    "    m, s  = np.mean(eps), 3*np.std(eps)/np.sqrt(len(eps))\n",
    "    \n",
    "    ax.scatter(range(len(eps)), eps, label='trial estimates', c=colors[i], alpha=.2)\n",
    "    ax.axhline(m, c=colors[i], label='estimated average EPR')\n",
    "    ax.axhline(m+s, c=colors[i], linestyle='--', label='99% Estimation Confidence Interval')\n",
    "    ax.axhline(m-s, c=colors[i], linestyle='--')\n",
    "ax.axhline(.2542, c='k', label='calculated average EPR')\n",
    "\n",
    "fig.legend()\n"
   ]
  },
  {
   "cell_type": "code",
   "execution_count": null,
   "metadata": {},
   "outputs": [],
   "source": [
    "epsr2 = []  \n",
    "num_est = 13\n",
    "n_samples = 2_000_000\n",
    "n_iter = 50\n",
    "\n",
    "  \n",
    "steps = range(process.shape[1]-2)\n",
    "\n",
    "steps_idx = np.meshgrid(steps, np.empty(n_samples))[0]\n",
    "steps_idx = np.random.default_rng().permuted(steps_idx,axis=1)[:,:50]\n",
    "\n",
    "for time_step in steps:\n",
    "\n",
    "        print(f'{time_step}', end='\\r')\n",
    "        proc = np.empty( (n_samples,3,2) )\n",
    "        for j in range(3):\n",
    "            proc[:,j] = process[range(n_samples),steps_idx[:,0]+j]\n",
    "\n",
    "        epsr2.append(get_step_epr(proc, 0, proc_dt, gamma, num_est, **kwargs ))\n",
    "        steps_idx = steps_idx[:,1:]"
   ]
  },
  {
   "cell_type": "code",
   "execution_count": null,
   "metadata": {},
   "outputs": [],
   "source": [
    "epsr=[]\n",
    "n_samples = 2_000_000\n",
    "n_iter = 50\n",
    "\n",
    "num_est = 13\n",
    "n_steps = process.shape[1]\n",
    "\n",
    "for i in range(n_iter):\n",
    "    print(f'{i}', end='\\r')\n",
    "    temp_proc = np.empty( (n_samples,4,2) )\n",
    "    steps = np.random.randint(0, n_steps-3, n_samples)\n",
    "\n",
    "    for j in range(4):\n",
    "        temp_proc[:,j] = process[range(n_samples),steps+j]\n",
    "    tep = get_step_epr(temp_proc, 0, proc_dt, gamma, num_est, **kwargs )\n",
    "    epsr.append(tep)\n",
    "    if tep > 1:\n",
    "        print(np.max(steps), np.min(steps))\n",
    "\n",
    "\n",
    "\n"
   ]
  },
  {
   "cell_type": "code",
   "execution_count": null,
   "metadata": {},
   "outputs": [],
   "source": [
    "fl"
   ]
  },
  {
   "cell_type": "code",
   "execution_count": null,
   "metadata": {},
   "outputs": [],
   "source": [
    "'Xis' in data[24].keys()"
   ]
  },
  {
   "cell_type": "code",
   "execution_count": null,
   "metadata": {},
   "outputs": [],
   "source": [
    "x=np.array([3,3,4])\n",
    "len(np.where(x>4)[0])"
   ]
  },
  {
   "cell_type": "code",
   "execution_count": null,
   "metadata": {},
   "outputs": [],
   "source": [
    "#fl = kt.file_list('data/cyclic_ness_estimates/shuffle_pad/holding cell/')\n",
    "fl = kt.file_list('data/cyclic_ness_estimates/regularizer/')\n",
    "\n",
    "#fl.extend(kt.file_list('data/cyclic_ness_estimates/shuffle_pad/'))\n",
    "fl.sort()\n",
    "\n",
    "data = [kt.open_json(i) for i in fl]\n",
    "\n",
    "data = [D for D in data if 'Xis' in D.keys()]\n",
    "#del(data[-2])"
   ]
  },
  {
   "cell_type": "code",
   "execution_count": null,
   "metadata": {},
   "outputs": [],
   "source": [
    "outliers = False\n",
    "\n",
    "\n",
    "idxs = range(len(data))\n",
    "for i in idxs:\n",
    "\n",
    "    #weird data mystery\n",
    "    #if len(data[i]['data']) != len(data[i]['Xis']):\n",
    "    if True:\n",
    "        EPL = []\n",
    "        for x,m in zip(data[i]['Xis'], data[i]['mus']):\n",
    "            EPL.append( (m @ np.linalg.inv(x) @ m)/data[i]['dt'] )\n",
    "        data[i]['data'] = EPL\n",
    "\n",
    "    #weird outliers mystery\n",
    "    if outliers:\n",
    "        eps = np.array(data[i]['data'])\n",
    "        mean, std_dev, median = np.mean(eps), np.std(eps), np.median(eps)\n",
    "\n",
    "        objective = np.where( np.abs(eps-mean)>.6*std_dev)\n",
    "        objective = np.where( eps>5)\n",
    "        data[i]['data'] = np.delete(eps, objective)\n",
    "        if len(objective[0])>0:\n",
    "            print(len(objective[0]))\n",
    "\n"
   ]
  },
  {
   "cell_type": "code",
   "execution_count": null,
   "metadata": {},
   "outputs": [],
   "source": [
    "fl"
   ]
  },
  {
   "cell_type": "code",
   "execution_count": null,
   "metadata": {},
   "outputs": [],
   "source": [
    "data[24]['num_path']"
   ]
  },
  {
   "cell_type": "code",
   "execution_count": null,
   "metadata": {},
   "outputs": [],
   "source": [
    "np.where(E==10)"
   ]
  },
  {
   "cell_type": "code",
   "execution_count": null,
   "metadata": {},
   "outputs": [],
   "source": [
    "plt.plot(data[24]['data'])\n",
    "plt.plot(data[24]['reg_data'])"
   ]
  },
  {
   "cell_type": "code",
   "execution_count": null,
   "metadata": {},
   "outputs": [],
   "source": [
    "fig, ax = plt.subplots(figsize=(20, 5))\n",
    "for X, RX in zip(data[24]['Xis'][4:5],data[24]['reg_Xis'][4:5]):\n",
    "    item = (RX.ravel()- X.ravel())/X.ravel()\n",
    "    plt.plot( item[::1] )\n",
    "    print(np.min(item), np.max(item), np.mean(item), np.sum(item))\n",
    "\n",
    "\n",
    "ax.set_yscale('log')"
   ]
  },
  {
   "cell_type": "code",
   "execution_count": null,
   "metadata": {},
   "outputs": [],
   "source": [
    "(1E-7)/(5.4E6)"
   ]
  },
  {
   "cell_type": "code",
   "execution_count": null,
   "metadata": {},
   "outputs": [],
   "source": [
    "data[5]['Xis'][0].shape"
   ]
  },
  {
   "cell_type": "code",
   "execution_count": null,
   "metadata": {},
   "outputs": [],
   "source": [
    "EPL = []\n",
    "\n"
   ]
  },
  {
   "cell_type": "code",
   "execution_count": null,
   "metadata": {},
   "outputs": [],
   "source": [
    "np.mean(EPL)"
   ]
  },
  {
   "cell_type": "code",
   "execution_count": null,
   "metadata": {},
   "outputs": [],
   "source": [
    "for i in range(len(data)):\n",
    "    print(i)\n",
    "    print(np.mean(data[i]['data']))"
   ]
  },
  {
   "cell_type": "code",
   "execution_count": null,
   "metadata": {},
   "outputs": [],
   "source": [
    "for i in range(len(data)):\n",
    "    print(i)\n",
    "    print(np.mean(data[i]['data']))"
   ]
  },
  {
   "cell_type": "code",
   "execution_count": null,
   "metadata": {},
   "outputs": [],
   "source": []
  },
  {
   "cell_type": "code",
   "execution_count": null,
   "metadata": {},
   "outputs": [],
   "source": [
    "S = data[24]['Xis'][0].size\n",
    "\n",
    "sorted(data[24]['Xis'][0].ravel())[ -int(S/4)] /(5.4E6)\n",
    "\n",
    "\n"
   ]
  },
  {
   "cell_type": "code",
   "execution_count": null,
   "metadata": {},
   "outputs": [],
   "source": [
    "x = np.linspace(1, 1_000, 10_000_000)\n",
    "plt.semilogy(1/x)\n",
    "plt.semilogy(x**-.5)\n",
    "plt.semilogy(x**-.75)\n",
    "#plt.semilogy(x**2)\n"
   ]
  },
  {
   "cell_type": "code",
   "execution_count": null,
   "metadata": {},
   "outputs": [],
   "source": [
    "\n",
    "\n",
    "for i in range(len(data)):\n",
    "\n",
    "    def alpha(data, N = data[i]['num_path']):\n",
    "        S = data.size\n",
    "        return 1/N**(2)\n",
    "\n",
    "    add_regularizer(data[i], .001, alpha_gen = alpha, verbose=True )\n",
    "    "
   ]
  },
  {
   "cell_type": "code",
   "execution_count": null,
   "metadata": {},
   "outputs": [],
   "source": [
    "key = 'reg_data'\n",
    "m  = np.array([np.mean(i[key]) for i in data])\n",
    "max = np.array([np.max(i[key]) for i in data])\n",
    "min = np.array([np.min(i[key]) for i in data])\n",
    "s = np.array([ 3*np.std(i[key])/np.sqrt(len(i['data'])) for i in data])\n",
    "\n",
    "N = np.array([i['num_path'] for i in data])\n",
    "E = np.array([i['num_est'] for i in data])\n",
    "\n",
    "Nvals = list(set(N))\n",
    "Nvals.sort()\n",
    "\n",
    "Evals = list(set(E))\n",
    "Evals.sort()"
   ]
  },
  {
   "cell_type": "code",
   "execution_count": null,
   "metadata": {},
   "outputs": [],
   "source": [
    "print( np.mean(data[24]['reg_data']), np.std(data[24]['reg_data']))"
   ]
  },
  {
   "cell_type": "code",
   "execution_count": null,
   "metadata": {},
   "outputs": [],
   "source": [
    "print( np.mean(data[24]['reg_data']), np.std(data[24]['reg_data']))"
   ]
  },
  {
   "cell_type": "code",
   "execution_count": null,
   "metadata": {},
   "outputs": [],
   "source": [
    "%debug"
   ]
  },
  {
   "cell_type": "code",
   "execution_count": null,
   "metadata": {},
   "outputs": [],
   "source": [
    "    fig, ax = plt.subplots(1,2, sharex=True, sharey=True)\n",
    "    for d in data:\n",
    "        eps = np.array(d['data'])\n",
    "        ax[0].plot(d['data'], linestyle='none', marker='o')\n",
    "        ax[1].plot(d['reg_data'], linestyle='none', marker='o')"
   ]
  },
  {
   "cell_type": "code",
   "execution_count": null,
   "metadata": {},
   "outputs": [],
   "source": [
    "np.array([i['num_est'] for i in data])"
   ]
  },
  {
   "cell_type": "code",
   "execution_count": null,
   "metadata": {},
   "outputs": [],
   "source": [
    "fig, ax = plt.subplots()\n",
    "ax.plot(data[-1]['data'])\n",
    "ax.plot(data[-2]['data'])\n",
    "ax.set_ylim(0,3)"
   ]
  },
  {
   "cell_type": "code",
   "execution_count": null,
   "metadata": {},
   "outputs": [],
   "source": [
    "plt.plot(data[-1]['data'])"
   ]
  },
  {
   "cell_type": "code",
   "execution_count": null,
   "metadata": {},
   "outputs": [],
   "source": [
    "pd = data[0]\n",
    "max_idx = np.argmax(pd['data'])\n",
    "fig, ax = plt.subplots(2)\n",
    "\n",
    "Xi_avg = np.linalg.inv((np.array(pd['Xis'])[np.where(np.array(pd['data']) < .7)].mean(axis=0)))\n",
    "Xi_odd = np.linalg.inv((pd['Xis'][max_idx]))\n",
    "Xi_norm = np.linalg.inv((pd['Xis'][5]))\n",
    "\n",
    "Xi_i = []\n",
    "for i in np.where(np.array(pd['data']) < 100)[0]:\n",
    "    Xi_i.append(np.linalg.inv(pd['Xis'][i]))\n",
    "\n",
    "Xi_i_avg = np.array(Xi_i).mean(axis=0)\n",
    "\n",
    "mu_avg = np.array(pd['mus'])[np.where(np.array(pd['data']) < .7)].mean(axis=0)\n",
    "mu_odd = (pd['mus'][max_idx])\n",
    "mu_norm = (pd['mus'][5])\n",
    "\n",
    "print('Xi')\n",
    "print(np.min(Xi_avg), np.max(Xi_avg), np.mean(Xi_avg))\n",
    "print(np.min(Xi_odd), np.max(Xi_odd), np.mean(Xi_odd))\n",
    "print(np.min(Xi_norm), np.max(Xi_norm), np.mean(Xi_norm))\n",
    "print('mu')\n",
    "print(np.min(mu_avg), np.max(mu_avg), np.mean(mu_avg))\n",
    "print(np.min(mu_odd), np.max(mu_odd), np.mean(mu_odd))\n",
    "\n",
    "\n",
    "for i in range(30):\n",
    "    mu_norm = (pd['mus'][i])\n",
    "    Xi_norm = np.linalg.inv((pd['Xis'][i]))\n",
    "\n",
    "    ax[0].plot(  np.sort((Xi_norm @ mu_norm)), c='b', alpha=.1)\n",
    "    ax[1].plot(  np.sort(Xi_norm.ravel()), c='b', alpha=.1)\n",
    "\n",
    "c1 = ax[0].plot( np.sort((Xi_odd @ mu_odd)), c='r' ) \n",
    "c1 = ax[0].plot( np.sort((Xi_avg @ mu_avg)), c='k' ) \n",
    "#c1 = ax[0].plot( np.sort((Xi_i_avg @ mu_avg)), c='y' ) \n",
    "\n",
    "c1 = ax[1].plot( np.sort(Xi_odd.ravel()), c='r' ) \n",
    "c1 = ax[1].plot( np.sort(Xi_avg.ravel()), c='k' ) \n",
    "#c1 = ax[1].plot( np.sort(Xi_i_avg.ravel()), c='y' ) \n",
    "\n",
    "#fig.colorbar(c0, ax=ax[0])\n",
    "#fig.colorbar(c1, ax=ax[1])\n",
    "\n",
    "#ax[0].set_ylim(50,200)\n",
    "#ax[0].set_xlim(50,200)\n",
    "\n",
    "ax[0].set_yscale('symlog')\n",
    "ax[1].set_yscale('symlog')\n",
    "\n",
    "\n"
   ]
  },
  {
   "cell_type": "code",
   "execution_count": null,
   "metadata": {},
   "outputs": [],
   "source": [
    "data[0]['Xis']"
   ]
  },
  {
   "cell_type": "code",
   "execution_count": null,
   "metadata": {},
   "outputs": [],
   "source": [
    "np.mean(data[0]['Xis'], axis=0).shape"
   ]
  },
  {
   "cell_type": "code",
   "execution_count": null,
   "metadata": {},
   "outputs": [],
   "source": [
    "for j,d in enumerate(data):\n",
    "    \n",
    "    try: X = np.mean(d['Xis'], axis=0)\n",
    "    except: continue\n",
    "    print(f'{j}')\n",
    "    #xr = np.sort(X.ravel())\n",
    "    #X[X<xr[int(len(xr)*.20)]] = 0\n",
    "    for i in range(len(d['data'])):\n",
    "        mu = np.array(d['mus'][i])\n",
    "        data[j]['Xis'][i] = X\n",
    "        data[j]['data'][i] = (mu @ np.linalg.inv(X) @ mu)/d['dt']\n",
    "\n",
    "m  = np.array([np.mean(i['data']) for i in data])\n",
    "max = np.array([np.max(i['data']) for i in data])\n",
    "min = np.array([np.min(i['data']) for i in data])\n",
    "s = np.array([ 3*np.std(i['data'])/np.sqrt(len(i['data'])) for i in data])\n",
    "\n",
    "N = np.array([i['num_path'] for i in data])\n",
    "E = np.array([i['num_est'] for i in data])\n",
    "\n",
    "Nvals = list(set(N))\n",
    "Nvals.sort()\n",
    "\n",
    "Evals = list(set(E))\n",
    "Evals.sort()\n"
   ]
  },
  {
   "cell_type": "code",
   "execution_count": null,
   "metadata": {},
   "outputs": [],
   "source": [
    "fig, ax = plt.subplots()\n",
    "for ev in Evals:\n",
    "    ax.plot(N[E==ev],max[E==ev], marker='D', label=f'{ev}')\n",
    "    fig.legend()\n",
    "    #ax.set_yscale('log')\n",
    "    #ax.set_ylim(.2,1)\n"
   ]
  },
  {
   "cell_type": "code",
   "execution_count": null,
   "metadata": {},
   "outputs": [],
   "source": []
  },
  {
   "cell_type": "code",
   "execution_count": null,
   "metadata": {},
   "outputs": [],
   "source": [
    "rc_dict['legend.loc'] = 'upper right'\n",
    "for k,v in rc_dict.items():\n",
    "    plt.rcParams[k] = v\n",
    "\n",
    "idx=39\n",
    "\n",
    "eps = np.array(data[idx]['data'])\n",
    "d = data[idx]\n",
    "\n",
    "fig, ax = plt.subplots(figsize=(5*1.2,3*1.2))\n",
    "\n",
    "\n",
    "\n",
    "m, s  = np.mean(eps), 3*np.std(eps)/np.sqrt(len(eps))\n",
    "\n",
    "ax.scatter(range(len(eps)), eps, marker='o', s=15, label='trial estimates')\n",
    "ax.axhline(m, c='r', label='estimated average EPR')\n",
    "\n",
    "#ax.axhline(.5506, c='k', label='average EPR')\n",
    "#ax.axhline(.2535, c='k', label='average EPR')\n",
    "ax.axhline(.2542, c='k', label='calculated average EPR')\n",
    "#ax.axhline(.2546, c='k', label='calculated average EPR')\n",
    "\n",
    "\n",
    "ax.axhspan(.252, .256, facecolor='k', alpha=0.3, label='finite size EPR variance')\n",
    "#ax.axhspan(.248, .256, facecolor='k', alpha=0.3, label='finite size EPR variance')\n",
    "\n",
    "#ax.axhspan(.252, .255, facecolor='k', alpha=0.3, label='finite size EPR range')\n",
    "#ax.axhspan(.253, .256, facecolor='k', alpha=0.3, label='finite size EPR range')\n",
    "\n",
    "print(m)\n",
    "ax.axhline(m+s, c='r', linestyle='--', label='99.7% Estimation Confidence Interval')\n",
    "ax.axhline(m-s, c='r', linestyle='--')\n",
    "fig.legend()\n",
    "\n",
    "ax.set_xlabel('trial')\n",
    "ax.set_ylabel('EPR')\n",
    "\n",
    "\n",
    "#ax.set_ylim(.54,.56)\n",
    "\n",
    "#fig.suptitle(f'{d[\"num_est\"]**2} estimators, {d[\"num_path\"]/1e6:.3} Million Trajectories ')\n",
    "\n",
    "ax.set_ylim(.225,.29)\n",
    "#ax.set_yscale('log')\n",
    "\n"
   ]
  },
  {
   "cell_type": "code",
   "execution_count": null,
   "metadata": {},
   "outputs": [],
   "source": [
    "fig.savefig('NESS_E18N108.pdf')"
   ]
  },
  {
   "cell_type": "code",
   "execution_count": null,
   "metadata": {},
   "outputs": [],
   "source": [
    "E==15"
   ]
  },
  {
   "cell_type": "code",
   "execution_count": null,
   "metadata": {},
   "outputs": [],
   "source": [
    "Nvals = list(set(N))\n",
    "Nvals.sort()\n",
    "\n",
    "N_axes = {N:i for N,i in zip(Nvals, range(len(Nvals)))}\n",
    "\n",
    "Evals = list(set(E))\n",
    "Evals.sort()\n",
    "\n",
    "\n",
    "\n",
    "fig, ax = plt.subplots(1, figsize=(5*1,4*1), sharex=True, sharey=True )\n",
    "\n",
    "colors = ['tab:blue', 'tab:orange', 'tab:green', 'tab:red', 'tab:purple', 'tab:brown', 'tab:pink', 'tab:gray', 'tab:olive', 'tab:cyan']\n",
    "plot_kwargs = {'linewidth':1, 'linestyle':'--','marker':'D','markersize':3, 'elinewidth':4, 'alpha':.7 }\n",
    "\n",
    "estimated_epr = .2535\n",
    "\n",
    "for i,n in enumerate(Evals[:]):\n",
    "    if n in [8, 12, 14, 16, 18, 21]:\n",
    "        msk = np.where(E==n)\n",
    "\n",
    "        trim = 0\n",
    "        mtemp = m[msk][trim:]\n",
    "        stemp = s[msk][trim:]\n",
    "        Ntemp = N[msk][trim:]\n",
    "        #nlst = [n+(.8)*(n**.7)*(i-((sum(N==n)-1)/2)) for n in Ntemp]\n",
    "        nlst = [n+n*(.01)*(i-((sum(N==n)-1)/2)) for n in Ntemp]\n",
    "\n",
    "        #mtemp = (mtemp-estimated_epr)/estimated_epr\n",
    "        #stemp = stemp/estimated_epr\n",
    "        ax.errorbar(nlst, mtemp, yerr = stemp, **plot_kwargs , label=f'{n**2} estimators')\n",
    "\n",
    "        mv_prev= None\n",
    "        for mv, sv, nv in zip(mtemp,stemp, Ntemp):\n",
    "            ax_i = N_axes[nv]\n",
    "        \n",
    "ax.axhline(estimated_epr, label='$\\Sigma/dt$', c='k', linewidth=1, alpha=1)\n",
    "#ax.axhline(.2546, c='k', label='calculated average EPR')\n",
    "\n",
    "#ax.axhline(.2388, label='average EPR', c='r', linewidth=1, alpha=1)\n",
    "\n",
    "#ax.axhspan(.252, .255, facecolor='k', alpha=0.3, label='EPR finite size variance')\n",
    "#ax.axhspan(.252-estimated_epr, .255-estimated_epr, facecolor='k', alpha=0.3, label='EPR finite size variance')\n",
    "\n",
    "#ax.axhspan(.248, .256, facecolor='k', alpha=0.3, label='finite size EPR variance')\n",
    "\n",
    "\n",
    "            \n",
    "fig.legend()\n",
    "\n",
    "ax.set_xlabel('N')\n",
    "ax.set_ylabel('$\\hat{\\Sigma}/dt$')\n",
    "ax.set_xscale('log')\n",
    "#ax.set_xticks([500_000, 1_000_000, 5_000_000])\n",
    "\n",
    "#ax.set_ylim(-100, 250)\n",
    "\n",
    "ax.set_ylim(.20,.75)\n",
    "\n",
    "#ax.set_ylim(.23,.27)\n",
    "\n",
    "#ax.set_xlim(10_000, 12_000_000)\n",
    "#ax.axvline(2_000_000)\n",
    "\n",
    "\n",
    "#ax.set_xlim(400_000, 600_000)\n",
    "#ax.axvline(500_000)\n",
    "\n",
    "#ax.axhline(.254)\n",
    "#ax.axhline(.251)\n",
    "#ax.axhline(.246)\n",
    "\n",
    "#ax.axvline(8_000_000)\n",
    "#ax.axvline(5_000_000)"
   ]
  },
  {
   "cell_type": "code",
   "execution_count": null,
   "metadata": {},
   "outputs": [],
   "source": [
    "fig.savefig('cyclic_ness_reg.pdf')"
   ]
  },
  {
   "cell_type": "code",
   "execution_count": null,
   "metadata": {},
   "outputs": [],
   "source": [
    "from matplotlib.patches import ConnectionPatch as connPatch\n",
    "Nvals = list(set(N))\n",
    "Nvals.sort()\n",
    "\n",
    "N_axes = {N:i for N,i in zip(Nvals, range(len(Nvals)))}\n",
    "\n",
    "Evals = list(set(E))\n",
    "Evals.sort()\n",
    "\n",
    "fig, ax = plt.subplots(1,len(Nvals), figsize=(10,6), sharex=True, sharey=True )\n",
    "\n",
    "colors = ['tab:blue', 'tab:orange', 'tab:green', 'tab:red', 'tab:purple', 'tab:brown', 'tab:pink', 'tab:gray', 'tab:olive', 'tab:cyan']\n",
    "\n",
    "for i,n in enumerate(Evals):\n",
    "    msk = np.where(E==n)\n",
    "    mtemp = m[msk]\n",
    "    stemp = s[msk]\n",
    "    Ntemp = N[msk]\n",
    "\n",
    "    cv = colors[i]\n",
    "    mv_prev= None\n",
    "    for mv, sv, nv in zip(mtemp,stemp, Ntemp):\n",
    "        ax_i = N_axes[nv]\n",
    "        ax[ax_i].errorbar(n**2, mv, yerr = sv, linestyle='none', marker='D', c=cv)\n",
    "        if mv_prev != None:\n",
    "            connect = connPatch(xyA=(n**2,mv_prev) ,xyB=(n**2,mv) ,coordsA=\"data\", coordsB=\"data\", axesA=ax[ax_i-1], axesB=ax[ax_i], color=cv )\n",
    "            #ax[ax_i].add_artist(connect)\n",
    "        mv_prev = mv\n",
    "    \n",
    "for i,n in enumerate(Nvals):\n",
    "    ax[i].set_title(f'N= {n:.1e}')\n",
    "    ax[i].axhline(.2535, label='exact EPR', c='k', linewidth=1, alpha=.4)\n",
    "    ax[i].axhspan(.252, .255, facecolor='k', alpha=0.3)\n",
    "\n",
    "\n",
    "            \n",
    "\n",
    "\n",
    "ax[0].set_xlabel('num est')\n",
    "ax[0].set_ylabel('EPR')\n",
    "ax[0].set_xscale('log')\n",
    "#ax[0].set_ylim(.15,.35)\n",
    "\n",
    "fig.tight_layout()\n",
    "#ax.scatter([s*proc_dt for s in steps], eps, marker='D')"
   ]
  },
  {
   "cell_type": "code",
   "execution_count": null,
   "metadata": {},
   "outputs": [],
   "source": [
    "Nvals = list(set(N))\n",
    "Nvals.sort()\n",
    "\n",
    "Evals = list(E)\n",
    "Evals.sort()\n",
    "\n",
    "fig, ax = plt.subplots(1,len(Nvals), figsize=(9,6), sharex=True, sharey=True )\n",
    "\n",
    "colors = ['tab:blue', 'tab:orange', 'tab:green', 'tab:red', 'tab:purple', 'tab:brown', 'tab:pink', 'tab:gray', 'tab:olive', 'tab:cyan']\n",
    "\n",
    "for i,n in enumerate(Nvals):\n",
    "    msk = np.where(N==n)\n",
    "    mtemp = m[msk]\n",
    "    stemp = s[msk]\n",
    "    etemp = E[msk]\n",
    "    c = colors[:len(m[msk])]\n",
    "    j=0\n",
    "    for mv, sv, ev, cv in zip(mtemp,stemp, etemp, c):\n",
    "        ax[i].errorbar(ev**2, mv, yerr = sv, linestyle='none', marker='D')\n",
    "        ax[i].axhline(m[N==Nvals[-1]][j], linestyle='--', c=cv, alpha=.5)\n",
    "        j+=1\n",
    "    ax[i].set_title(f'N= {n:.1e}')\n",
    "    ax[i].axhline(.2535, label='exact EPR', c='k', linewidth=1, alpha=.4)\n",
    "    ax[i].axhspan(.252, .255, facecolor='k', alpha=0.3)\n",
    "\n",
    "\n",
    "            \n",
    "\n",
    "\n",
    "ax[0].set_xlabel('num est')\n",
    "ax[0].set_ylabel('EPR')\n",
    "ax[0].set_xscale('log')\n",
    "ax[0].set_ylim(.15,.35)\n",
    "\n",
    "\n",
    "#ax.scatter([s*proc_dt for s in steps], eps, marker='D')"
   ]
  },
  {
   "cell_type": "code",
   "execution_count": null,
   "metadata": {},
   "outputs": [],
   "source": [
    "fig.savefig('cyclic_ness_scaling_2.pdf')"
   ]
  },
  {
   "cell_type": "code",
   "execution_count": null,
   "metadata": {},
   "outputs": [],
   "source": []
  }
 ],
 "metadata": {
  "kernelspec": {
   "display_name": "base",
   "language": "python",
   "name": "python3"
  },
  "language_info": {
   "codemirror_mode": {
    "name": "ipython",
    "version": 3
   },
   "file_extension": ".py",
   "mimetype": "text/x-python",
   "name": "python",
   "nbconvert_exporter": "python",
   "pygments_lexer": "ipython3",
   "version": "3.11.7"
  }
 },
 "nbformat": 4,
 "nbformat_minor": 2
}
