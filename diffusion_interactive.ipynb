{
 "cells": [
  {
   "cell_type": "code",
   "execution_count": null,
   "metadata": {},
   "outputs": [],
   "source": [
    "%matplotlib inline\n",
    "import numpy as np"
   ]
  },
  {
   "cell_type": "code",
   "execution_count": null,
   "metadata": {},
   "outputs": [],
   "source": [
    "def realepr(t, P0, SigmaPi, SigmaXi):\n",
    "    '''\n",
    "    gives the epr as a function of time assuming gamma=kBT=mass=1\n",
    "    '''\n",
    "    numerator = (np.exp(-2*t) * (np.exp(4*t) + 2*np.exp(3*t)*(-2 + SigmaPi**2) -\n",
    "                                 4*np.exp(t)*(-2 + SigmaPi**2)*(-1 + P0**2 + SigmaPi**2) +\n",
    "                                 (-1 + P0**2 + SigmaPi**2)*(-SigmaXi**2 - 2*(2 + t) +\n",
    "                                  SigmaPi**2*(3 + SigmaXi**2 + 2*t)) +\n",
    "                                 np.exp(2*t)*(7 - 7*SigmaPi**2 + SigmaPi**4 +\n",
    "                                 P0**2*(-4 + SigmaPi**2 + SigmaXi**2 + 2*t))))\n",
    "    denominator = (-4 - 4*np.exp(t)*(-2 + SigmaPi**2) - SigmaXi**2 - 2*t +\n",
    "                   SigmaPi**2*(3 + SigmaXi**2 + 2*t) +\n",
    "                   np.exp(2*t)*(-4 + SigmaPi**2 + SigmaXi**2 + 2*t))\n",
    "    return numerator / denominator"
   ]
  },
  {
   "cell_type": "markdown",
   "metadata": {},
   "source": [
    "## Execute the two cells below for an interactive plot of the EPR, EP and also a trap rule integration of EP for N points"
   ]
  },
  {
   "cell_type": "markdown",
   "metadata": {},
   "source": []
  },
  {
   "cell_type": "code",
   "execution_count": null,
   "metadata": {},
   "outputs": [],
   "source": [
    "%%capture\n",
    "%matplotlib inline\n",
    "import matplotlib.pyplot as plt\n",
    "import numpy as np\n",
    "from ipywidgets import interactive\n",
    "from mpl_toolkits.mplot3d import Axes3D\n",
    "\n",
    "# use the function keyword arguments below to set default values\n",
    "def f(p0=.2, Sp0=.3, Sx0=.025, t0=0, tf=1, dt=.001, N=10):\n",
    "    params = [p0, Sp0, Sx0]\n",
    "    \n",
    "  \n",
    "    #SET THE PLOT WINDOW HERE ###\n",
    "    t = np.arange(t0, tf, dt)\n",
    "\n",
    "    t_c = np.linspace(t0, tf, N)\n",
    "\n",
    "    epr = realepr(t,*params )\n",
    "\n",
    "    epr_c = realepr(t_c, *params)\n",
    "    \n",
    "    fig, ax = plt.subplots(1,2, figsize=(12,5), sharex=True)\n",
    "    ax[0].set_xlim(t0, tf)\n",
    "    ax[0].set_ylim(0, 10)\n",
    "\n",
    "    ax[0].plot(t, epr)\n",
    "    ax[0].plot(t_c, epr_c, linestyle='none', marker='o')\n",
    "\n",
    "    ax[1].plot(t, np.cumsum(epr*dt))\n",
    "    ax[1].plot(t_c[1:], np.cumsum( .5*(t_c[1]-t_c[0])*(epr_c[:-1]+epr_c[1:])), linestyle='--')\n",
    "\n",
    "    \n",
    "    ax[0].set_title('EPR')\n",
    "    ax[1].set_title('EP')\n",
    "\n",
    "#SET PARAMETER RANGES HERE ### \n",
    "rng = (.01,2,.01)\n",
    "trng = (0,4,.1)\n",
    "dt_rng = (.001,.1,.001)\n",
    "nrng = (2,100,1)\n",
    "\n",
    "\n",
    "#SET PARAMETER RANGES HERE ### \n",
    "\n",
    "\n",
    "interactive_plot = interactive(f, p0=rng, Sp0=rng, Sx0=rng, t0=trng, tf = trng, dt=dt_rng, N=nrng);\n",
    "#output = interactive_plot.children[-1]\n",
    "#output.layout.height = '900px'"
   ]
  },
  {
   "cell_type": "code",
   "execution_count": null,
   "metadata": {},
   "outputs": [],
   "source": [
    "interactive_plot"
   ]
  },
  {
   "cell_type": "code",
   "execution_count": null,
   "metadata": {},
   "outputs": [],
   "source": []
  }
 ],
 "metadata": {
  "kernelspec": {
   "display_name": "general",
   "language": "python",
   "name": "python3"
  },
  "language_info": {
   "codemirror_mode": {
    "name": "ipython",
    "version": 3
   },
   "file_extension": ".py",
   "mimetype": "text/x-python",
   "name": "python",
   "nbconvert_exporter": "python",
   "pygments_lexer": "ipython3",
   "version": "3.11.7"
  }
 },
 "nbformat": 4,
 "nbformat_minor": 4
}
